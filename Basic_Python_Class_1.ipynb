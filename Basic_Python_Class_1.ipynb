{
  "nbformat": 4,
  "nbformat_minor": 0,
  "metadata": {
    "colab": {
      "name": "Basic Python Class 1.ipynb",
      "provenance": [],
      "collapsed_sections": [],
      "authorship_tag": "ABX9TyNDu2huiBtr7wOwmz5YTDgc",
      "include_colab_link": true
    },
    "kernelspec": {
      "name": "python3",
      "display_name": "Python 3"
    }
  },
  "cells": [
    {
      "cell_type": "markdown",
      "metadata": {
        "id": "view-in-github",
        "colab_type": "text"
      },
      "source": [
        "<a href=\"https://colab.research.google.com/github/Sachin729/Python-Basics/blob/main/Basic_Python_Class_1.ipynb\" target=\"_parent\"><img src=\"https://colab.research.google.com/assets/colab-badge.svg\" alt=\"Open In Colab\"/></a>"
      ]
    },
    {
      "cell_type": "markdown",
      "metadata": {
        "id": "KxJkAHebe9Dg"
      },
      "source": [
        "\n",
        "\n",
        " \n",
        "## **Introduction to Python**\n",
        "*   Variables,Standard Data Types\n",
        "*   Comments, Types of  comments\n",
        "*   Conditional Statements\n",
        "*   Loops\n",
        "*   Operands and Expressions\n",
        "\n",
        "\n",
        "\n",
        "\n",
        "\n",
        "\n"
      ]
    },
    {
      "cell_type": "markdown",
      "metadata": {
        "id": "oUFqai5Phj3v"
      },
      "source": [
        "**Variables:**Variables are nothing but reserved memory locations to store values. This means that when you create a variable you reserve some space in memory.\n",
        "\n",
        "\n",
        "*   Assigning Values to Variables\n",
        "*   Multiple Assignment\n",
        "\n"
      ]
    },
    {
      "cell_type": "markdown",
      "metadata": {
        "id": "HSF2aMSJ2kM_"
      },
      "source": [
        "**Conditional Statements** :The if condition is considered the simplest of the three and makes a decision based on whether the condition is true or not. If the condition is true, it prints out the indented expression. If the condition is false, it skips printing the indented expression.\n",
        "\n",
        "If statement: \n",
        "Syntax: if contition :\n",
        "            Body of it \n",
        "        else:\n",
        "            next "
      ]
    },
    {
      "cell_type": "markdown",
      "metadata": {
        "id": "mK5KGR3u9RHS"
      },
      "source": [
        "**Loops:**Loop continues until we reach the last item in the sequence or itterate till condition fails. The body of for loop is separated from the rest of the code using indentation.\n",
        "<br>\n",
        "\n",
        "* While loop :we can execute a set of statements as long as a condition is true.\n",
        "* For loop : A for loop is used for iterating over a sequence (that is either a list, a tuple, a dictionary, a set, or a string).\n",
        "\n",
        "\n",
        "> * Range() Function\n",
        "\n",
        "\n",
        "> * Continue Statement\n",
        "\n",
        "\n",
        "> * Break Statement\n",
        "\n",
        "\n",
        "\n",
        "\n",
        "\n",
        "\n",
        "\n",
        "\n",
        "\n",
        "\n"
      ]
    },
    {
      "cell_type": "markdown",
      "metadata": {
        "id": "eho6bvyde7kE"
      },
      "source": [
        "**Standard Data Types** :The data stored in memory can be of many types.\n",
        "1. Numbers  \n",
        "2.String\n",
        "3.List\n",
        "4.Tuple\n",
        "5.Dictionary\n",
        "\n"
      ]
    },
    {
      "cell_type": "markdown",
      "metadata": {
        "id": "3lgfZsLDjD6E"
      },
      "source": [
        "**Numbers**:Number data types store numeric values. Number objects are created when you assign a value to them. \n",
        "*   int (signed integers)\n",
        "*   long (long integers, they can also be represented in octal and hexadecimal)\n",
        "*   float (floating point real values)\n",
        "*   complex (complex numbers)\n",
        "\n",
        "\n"
      ]
    },
    {
      "cell_type": "markdown",
      "metadata": {
        "id": "yRSAZQe6jmL5"
      },
      "source": [
        "**Strings:** Strings in Python are identified as a contiguous set of characters represented in the quotation marks.\n",
        "String literals in python are surrounded by either single quotation marks, or double quotation marks or thripple quotation.\n",
        "\n",
        "\n",
        "\n",
        ">  * 1  capitalize( ):\tConverts the first character to upper case\n",
        " * 2  casefold( ):\tConverts string into lower case\n",
        " * 3  center( ):\tReturns a centered string\n",
        " * 4  count( ):\tReturns the number of times a specified value occurs in a string\n",
        " * 5  encode( ):\tReturns an encoded version of the string\n",
        " * 6  endswith( ):\tReturns true if the string ends with the specified value\n",
        " * 7  expandtabs( ):\tSets the tab size of the string\n",
        " * 8  find( ):\tSearches the string for a specified value and returns the position of where it was found\n",
        " * 9  format( ):\tFormats specified values in a string\n",
        " * 10 format_map( ):\tFormats specified values in a string\n",
        " * 11 index( ):\tSearches the string for a specified value and returns the position of where it was found\n",
        " * 12 isalnum( ):\tReturns True if all characters in the string are alphanumeric\n",
        " * 13 isalpha( ):\tReturns True if all characters in the string are in the alphabet\n",
        " * 14 isdecimal( ):\tReturns True if all characters in the string are decimals\n",
        " * 15 isdigit( ):\tReturns True if all characters in the string are digits\n",
        " * 16 isidentifier( ):\tReturns True if the string is an identifier\n",
        " * 17 islower( ):\tReturns True if all characters in the string are lower case\n",
        " * 18 isnumeric( ):\tReturns True if all characters in the string are numeric\n",
        " * 19 isprintable( ):\tReturns True if all characters in the string are printable\n",
        " * 20 isspace( ):\tReturns True if all characters in the string are whitespaces\n",
        " * 21 istitle( ):\tReturns True if the string follows the rules of a title\n",
        " * 22 isupper( ):\tReturns True if all characters in the string are upper case\n",
        " * 23 join( ):\tJoins the elements of an iterable to the end of the string\n",
        " * 24 ljust( ):\tReturns a left justified version of the string\n",
        " * 25 lower( ):\tConverts a string into lower case\n",
        " * 26 lstrip( ):\tReturns a left trim version of the string\n",
        " * 27 maketrans( ):\tReturns a translation table to be used in translations\n",
        " * 28 partition( ):\tReturns a tuple where the string is parted into three parts\n",
        " * 29 replace( ):\tReturns a string where a specified value is replaced with a specified value\n",
        " * 30 rfind( ):\tSearches the string for a specified value and returns the last position of where it was found\n",
        " * 31 rindex( ):\tSearches the string for a specified value and returns the last position of where it was found\n",
        " * 32 rjust( ):\tReturns a right justified version of the string\n",
        " * 33 rpartition( ):\tReturns a tuple where the string is parted into three parts\n",
        " * 34 rsplit( ):\tSplits the string at the specified separator, and returns a list\n",
        " * 35 rstrip( ):\tReturns a right trim version of the string\n",
        " * 36 split( ):\tSplits the string at the specified separator, and returns a list\n",
        " * 37 splitlines( ):\tSplits the string at line breaks and returns a list\n",
        " * 38 startswith( ):\tReturns true if the string starts with the specified value\n",
        " * 39 strip( ):\tReturns a trimmed version of the string\n",
        " * 40 swapcase( ):\tSwaps cases, lower case becomes upper case and vice versa\n",
        " * 41 title( ):\tConverts the first character of each word to upper case\n",
        " * 42 translate( ):\tReturns a translated string\n",
        " * 43 upper( ):\tConverts a string into upper case\n",
        " * 44 zfill( ):\tFills the string with a specified number of 0 values at the beginning\n",
        "\n",
        "\n",
        "---\n",
        "\n",
        "\n",
        "\n"
      ]
    },
    {
      "cell_type": "markdown",
      "metadata": {
        "id": "Lu01KcogD33J"
      },
      "source": [
        "**Lists**:Lists are the most versatile of Python's compound data types. A list contains items separated by commas and enclosed within square brackets '[ ]. To some extent, lists are similar to arrays in C. One difference between them is that all the items belonging to a list can be of different data type.\n",
        "\n",
        "Python has a set of built-in methods that you can use on lists:\n",
        "\n",
        " *  1  append(  ):\tAdds an element at the end of the list\n",
        " *  2  clear(  ):\tRemoves all the elements from the list\n",
        " *  3  copy(  ):\tReturns a copy of the list\n",
        " *  4  count(  ):\tReturns the number of elements with the specified value\n",
        " *  5  extend(  ):\tAdd the elements of a list (or any iterable), to the end of the current list\n",
        " *  6  index(  ):\tReturns the index of the first element with the specified value\n",
        " *  7  insert(  ):\tAdds an element at the specified position\n",
        " *  8  pop(  ):\tRemoves the element at the specified position\n",
        " *  9  remove(  ):\tRemoves the first item with the specified value\n",
        " *  10 reverse(  ):\tReverses the order of the list\n",
        " *  11 sort(  ):\tSorts the list\n",
        "\n"
      ]
    },
    {
      "cell_type": "markdown",
      "metadata": {
        "id": "DBQnEvqaFHQ2"
      },
      "source": [
        "---\n",
        "**Tuples**: A tuple is another sequence data type that is similar to the list. A tuple consists of a number of values separated by commas.enclosed within square brackets '( )'.\n",
        "A tuple is a collection which is ordered and unchangeable or immutable as it also is called.\n",
        "\n",
        "\n",
        "\n",
        "1\t**Type:** List is mutable.\tTuple is immutable.\n",
        "<br>\n",
        "2\t**Iteration:**\tList iteration is slower and is time consuming.\tTuple iteration is faster.<br>\n",
        "3\t**Appropriate:** for\tList is useful for insertion and deletion operations.\tTuple is useful for readonly operations like accessing elements.<br>\n",
        "4\t**Memory Consumption:**\tList consumes more memory.\tTuples consumes less memory.<br>\n",
        "5\t**Methods:**\tList provides many in-built methods.\tTuples have less in-built methods.<br>\n",
        "6 **Error prone:**\tList operations are more error prone.\tTuples operations are safe.<br>\n",
        "---\n",
        "\n"
      ]
    },
    {
      "cell_type": "markdown",
      "metadata": {
        "id": "CLoBh0_AHCo1"
      },
      "source": [
        "**Dictionary** :Python's dictionaries are kind of Key value pair,Dictionaries are enclosed by curly braces ({ })\n",
        "\n",
        " * 1  clear(  ):\tRemoves all the elements from the dictionary\n",
        " * 2  copy(  ):\tReturns a copy of the dictionary\n",
        " * 3  fromkeys(  ):\tReturns a dictionary with the specified keys and value\n",
        " * 4  get(  ):\tReturns the value of the specified key\n",
        " * 5  items(  ):\tReturns a list containing a tuple for each key value pair\n",
        " * 6  keys(  ):\tReturns a list containing the dictionary's keys\n",
        " * 7  pop(  ):\tRemoves the element with the specified key\n",
        " * 8  popitem(  ):\tRemoves the last inserted key-value pair\n",
        " * 9  setdefault(  ):\tReturns the value of the specified key. If the key does not exist: insert the key, with the specified value\n",
        " * 10 update(  ):\tUpdates the dictionary with the specified key-value pairs\n",
        " * 11 values(  ):\tReturns a list of all the values in the dictionary"
      ]
    },
    {
      "cell_type": "code",
      "metadata": {
        "id": "mkhqZSnDectm"
      },
      "source": [
        ""
      ],
      "execution_count": null,
      "outputs": []
    },
    {
      "cell_type": "code",
      "metadata": {
        "id": "HXHzOmRLeW_K",
        "outputId": "b09f3712-bb17-4a44-9492-765b5b5dd9da",
        "colab": {
          "base_uri": "https://localhost:8080/"
        }
      },
      "source": [
        "thisdict = {\n",
        "  \"brand\": \"Ford\",\n",
        "  \"model\": \"Mustang\",\n",
        "  \"year\": 1964\n",
        "}\n",
        "print(thisdict)"
      ],
      "execution_count": null,
      "outputs": [
        {
          "output_type": "stream",
          "text": [
            "{'brand': 'Ford', 'model': 'Mustang', 'year': 1964}\n"
          ],
          "name": "stdout"
        }
      ]
    },
    {
      "cell_type": "code",
      "metadata": {
        "id": "4MyPPHVieeR2",
        "outputId": "43d61732-6670-44ad-a8bd-89c2f78eecbf",
        "colab": {
          "base_uri": "https://localhost:8080/"
        }
      },
      "source": [
        "# thisdict.get(\"brand\")\n",
        "# thisdict.pop(\"brand\")\n",
        "thisdict.keys()\n",
        "thisdict.g"
      ],
      "execution_count": null,
      "outputs": [
        {
          "output_type": "execute_result",
          "data": {
            "text/plain": [
              "dict_keys(['model', 'year'])"
            ]
          },
          "metadata": {
            "tags": []
          },
          "execution_count": 16
        }
      ]
    },
    {
      "cell_type": "markdown",
      "metadata": {
        "id": "odhHkUU2hj_y"
      },
      "source": [
        "**Input from Keyboard** : In Python, we use input() function to take input from the user. Whatever you enter as input, the input function converts it into a string. If you enter an integer value still input() function convert it into a string.\n",
        "<br>Syntax: **input**(prompt)\n",
        "\n",
        "Parameter:\n",
        "\n",
        "Prompt: (optional) The string that is written to standard output(usually screen) without newline.\n",
        "Return: **String object**"
      ]
    },
    {
      "cell_type": "markdown",
      "metadata": {
        "id": "oc7_GqsflO5L"
      },
      "source": [
        "**Operands:**Operators are special symbols in Python that carry out arithmetic or logical computation. The value that the operator operates on is called the operand.\n",
        "\n",
        "Python language supports the following types of operators.\n",
        " \n",
        "*   Arithmetic Operators\n",
        "*  Comparison (Relational) Operators\n",
        "*   Assignment Operators\n",
        "*   Logical Operators\n",
        "*   Bitwise Operators\n",
        "*   Membership Operators\n",
        "*  Identity Operators\n",
        "\n",
        "\n",
        "\n",
        "\n",
        "\n",
        "\n",
        "\n",
        "\n",
        "\n",
        "\n"
      ]
    },
    {
      "cell_type": "markdown",
      "metadata": {
        "id": "wUzxVcaYjrCe"
      },
      "source": [
        "**Arithmetic Operators**\n",
        "+\tAdd two operands or unary plus\tx + y+ 2\n",
        "-\tSubtract right operand from the left or unary minus\tx - y- 2\n",
        "*\tMultiply two operands\tx * y\n",
        "/\tDivide left operand by the right one (always results into float)\tx / y\n",
        "%\tModulus - remainder of the division of left operand by the right\tx % y (remainder of x/y)\n",
        "//\tFloor division - division that results into whole number adjusted to the left in the number line\tx // y\n",
        "**\tExponent - left operand raised to the power of right\tx**y (x to the power y)"
      ]
    },
    {
      "cell_type": "markdown",
      "metadata": {
        "id": "0OmmVrSej0xQ"
      },
      "source": [
        "**Comparison operators**Comparison operators are used to compare values. It returns either True or False according to the condition.\n",
        "\n",
        "Operator\tMeaning\tExample\n",
        ">\tGreater than - True if left operand is greater than the right\tx > y\n",
        "<\tLess than - True if left operand is less than the right\tx < y\n",
        "==\tEqual to - True if both operands are equal\tx == y\n",
        "!=\tNot equal to - True if operands are not equal\tx != y\n",
        ">=\tGreater than or equal to - True if left operand is greater than or equal to the right\tx >= y\n",
        "<=\tLess than or equal to - True if left operand is less than or equal to the right\tx <= y"
      ]
    },
    {
      "cell_type": "markdown",
      "metadata": {
        "id": "mBW448LfkGGs"
      },
      "source": [
        "**Logical operators** and\tTrue if both the operands are true\tx and y\n",
        "or\tTrue if either of the operands is true\tx or y\n",
        "not\tTrue if operand is false (complements the operand)\tnot x"
      ]
    },
    {
      "cell_type": "markdown",
      "metadata": {
        "id": "ckzUZNeUkYie"
      },
      "source": [
        "**Assignment operators**\n",
        "Assignment operators are used in Python to assign values to variables.\n",
        "\n",
        "a = 5 is a simple assignment operator that assigns the value 5 on the right to the variable a on the left.\n",
        "\n",
        "There are various compound operators in Python like a += 5 that adds to the variable and later assigns the same. It is equivalent to a = a + 5.\n",
        "\n",
        "x = 5\t\n",
        "x += 5\t             x = x + 5<br>\n",
        "x -= 5\tx = x - 5\n",
        "<br>x *= 5\tx = x * 5\n",
        "<br>x /= 5\tx = x / 5\n",
        "<br>x %= 5\tx = x % 5\n",
        "<br>x //= 5\tx = x // 5\n",
        "<br>x **= 5\tx = x ** 5\n",
        "<br>x &= 5\tx = x & 5\n",
        "<br>x |= 5\tx = x | 5\n",
        "<br>x ^= 5\tx = x ^ 5\n",
        "<br>x >>= 5\tx = x >> 5\n",
        "<br>x <<= 5\tx = x << 5\n"
      ]
    },
    {
      "cell_type": "code",
      "metadata": {
        "id": "QWT417qZkFRF"
      },
      "source": [
        ""
      ],
      "execution_count": null,
      "outputs": []
    }
  ]
}