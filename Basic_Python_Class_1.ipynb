{
  "nbformat": 4,
  "nbformat_minor": 0,
  "metadata": {
    "colab": {
      "name": "Basic Python Class 1.ipynb",
      "provenance": [],
      "collapsed_sections": [],
      "authorship_tag": "ABX9TyOCMB6MfzXV8iOo4P1Evo1W",
      "include_colab_link": true
    },
    "kernelspec": {
      "name": "python3",
      "display_name": "Python 3"
    }
  },
  "cells": [
    {
      "cell_type": "markdown",
      "metadata": {
        "id": "view-in-github",
        "colab_type": "text"
      },
      "source": [
        "<a href=\"https://colab.research.google.com/github/Sachin729/Python-Basics/blob/main/Basic_Python_Class_1.ipynb\" target=\"_parent\"><img src=\"https://colab.research.google.com/assets/colab-badge.svg\" alt=\"Open In Colab\"/></a>"
      ]
    },
    {
      "cell_type": "markdown",
      "metadata": {
        "id": "KxJkAHebe9Dg"
      },
      "source": [
        "\n",
        " \n",
        "## **Introduction to Python Day 1**\n",
        "*   Variables,Standard Data Types\n",
        "*   Comments, Types of  comments\n",
        "*   Conditional Statements\n",
        "*   Loops\n",
        "*   Operands and Expressions\n",
        "\n",
        "\n",
        "\n",
        "\n",
        "\n",
        "\n"
      ]
    },
    {
      "cell_type": "markdown",
      "metadata": {
        "id": "oUFqai5Phj3v"
      },
      "source": [
        "**Variables:**Variables are nothing but reserved memory locations to store values. This means that when you create a variable you reserve some space in memory.\n",
        "\n",
        "\n",
        "*   Assigning Values to Variables\n",
        "*   Multiple Assignment\n",
        "\n"
      ]
    },
    {
      "cell_type": "code",
      "metadata": {
        "id": "ywcNfctmuC_Q",
        "outputId": "155f0907-2123-4138-c154-824c07aec1f9",
        "colab": {
          "base_uri": "https://localhost:8080/"
        }
      },
      "source": [
        "#Assigning Values to Variables examples\n",
        "var1 = \"hello world\" \n",
        "var2 = 'hello world'\n",
        "print(var1,'\\n',var2)"
      ],
      "execution_count": null,
      "outputs": [
        {
          "output_type": "stream",
          "text": [
            "hello world \n",
            " hello world\n"
          ],
          "name": "stdout"
        }
      ]
    },
    {
      "cell_type": "code",
      "metadata": {
        "id": "pwEY6tPCvXQH",
        "outputId": "352d360b-fcb1-446e-aa19-209337a6338e",
        "colab": {
          "base_uri": "https://localhost:8080/"
        }
      },
      "source": [
        "#Multiple Assignment example 1\n",
        "var1 = var2 = 'hello world'\n",
        "print(var1,'\\n',var2)"
      ],
      "execution_count": null,
      "outputs": [
        {
          "output_type": "stream",
          "text": [
            "hello world \n",
            " hello world\n"
          ],
          "name": "stdout"
        }
      ]
    },
    {
      "cell_type": "code",
      "metadata": {
        "id": "WS5R17-PvtdJ",
        "outputId": "bbfd885b-601c-4b30-a198-033d38718996",
        "colab": {
          "base_uri": "https://localhost:8080/"
        }
      },
      "source": [
        "#Multiple Assignment example 1\n",
        "''' comments example \n",
        "this is example '''\n",
        "var1 = var2 = 'hello world',True\n",
        "print(var1,'\\n',var2)"
      ],
      "execution_count": null,
      "outputs": [
        {
          "output_type": "stream",
          "text": [
            "('hello world', True) \n",
            " ('hello world', True)\n"
          ],
          "name": "stdout"
        }
      ]
    },
    {
      "cell_type": "markdown",
      "metadata": {
        "id": "HSF2aMSJ2kM_"
      },
      "source": [
        "**Conditional Statements** :The if condition is considered the simplest of the three and makes a decision based on whether the condition is true or not. If the condition is true, it prints out the indented expression. If the condition is false, it skips printing the indented expression.\n",
        "\n",
        "If statement: \n",
        "Syntax: if contition :\n",
        "            Body of it \n",
        "        else:\n",
        "            next "
      ]
    },
    {
      "cell_type": "code",
      "metadata": {
        "id": "2q1EOmXz3Aay",
        "outputId": "e64ba748-cc37-4352-ee49-d14f316a40c9",
        "colab": {
          "base_uri": "https://localhost:8080/"
        }
      },
      "source": [
        "#example 1\n",
        "if 'Hello' in 'Hello world' :\n",
        "  print(\"yes\")\n",
        "#example 2 \n",
        "var1 = 22 \n",
        "if var1 == 2:\n",
        "  print(\"var1 is equal 2\")\n",
        "else:\n",
        "  print(\"var1 not is equal 2\")"
      ],
      "execution_count": null,
      "outputs": [
        {
          "output_type": "stream",
          "text": [
            "yes\n",
            "var1 not is equal 2\n"
          ],
          "name": "stdout"
        }
      ]
    },
    {
      "cell_type": "markdown",
      "metadata": {
        "id": "mK5KGR3u9RHS"
      },
      "source": [
        "**Loops:**Loop continues until we reach the last item in the sequence or itterate till condition fails. The body of for loop is separated from the rest of the code using indentation.\n",
        "<br>\n",
        "\n",
        "* While loop :we can execute a set of statements as long as a condition is true.\n",
        "* For loop : A for loop is used for iterating over a sequence (that is either a list, a tuple, a dictionary, a set, or a string).\n",
        "\n",
        "\n",
        "> * Range() Function\n",
        "\n",
        "\n",
        "> * Continue Statement\n",
        "\n",
        "\n",
        "> * Break Statement\n",
        "\n",
        "\n",
        "\n",
        "\n",
        "\n",
        "\n",
        "\n",
        "\n",
        "\n",
        "\n"
      ]
    },
    {
      "cell_type": "code",
      "metadata": {
        "id": "08EgjCKlwVAu",
        "outputId": "72e518ec-77b9-40cb-86a3-f18bc56bfe3d",
        "colab": {
          "base_uri": "https://localhost:8080/"
        }
      },
      "source": [
        "print(help(range))\n"
      ],
      "execution_count": null,
      "outputs": [
        {
          "output_type": "stream",
          "text": [
            "Help on class range in module builtins:\n",
            "\n",
            "class range(object)\n",
            " |  range(stop) -> range object\n",
            " |  range(start, stop[, step]) -> range object\n",
            " |  \n",
            " |  Return an object that produces a sequence of integers from start (inclusive)\n",
            " |  to stop (exclusive) by step.  range(i, j) produces i, i+1, i+2, ..., j-1.\n",
            " |  start defaults to 0, and stop is omitted!  range(4) produces 0, 1, 2, 3.\n",
            " |  These are exactly the valid indices for a list of 4 elements.\n",
            " |  When step is given, it specifies the increment (or decrement).\n",
            " |  \n",
            " |  Methods defined here:\n",
            " |  \n",
            " |  __bool__(self, /)\n",
            " |      self != 0\n",
            " |  \n",
            " |  __contains__(self, key, /)\n",
            " |      Return key in self.\n",
            " |  \n",
            " |  __eq__(self, value, /)\n",
            " |      Return self==value.\n",
            " |  \n",
            " |  __ge__(self, value, /)\n",
            " |      Return self>=value.\n",
            " |  \n",
            " |  __getattribute__(self, name, /)\n",
            " |      Return getattr(self, name).\n",
            " |  \n",
            " |  __getitem__(self, key, /)\n",
            " |      Return self[key].\n",
            " |  \n",
            " |  __gt__(self, value, /)\n",
            " |      Return self>value.\n",
            " |  \n",
            " |  __hash__(self, /)\n",
            " |      Return hash(self).\n",
            " |  \n",
            " |  __iter__(self, /)\n",
            " |      Implement iter(self).\n",
            " |  \n",
            " |  __le__(self, value, /)\n",
            " |      Return self<=value.\n",
            " |  \n",
            " |  __len__(self, /)\n",
            " |      Return len(self).\n",
            " |  \n",
            " |  __lt__(self, value, /)\n",
            " |      Return self<value.\n",
            " |  \n",
            " |  __ne__(self, value, /)\n",
            " |      Return self!=value.\n",
            " |  \n",
            " |  __new__(*args, **kwargs) from builtins.type\n",
            " |      Create and return a new object.  See help(type) for accurate signature.\n",
            " |  \n",
            " |  __reduce__(...)\n",
            " |      helper for pickle\n",
            " |  \n",
            " |  __repr__(self, /)\n",
            " |      Return repr(self).\n",
            " |  \n",
            " |  __reversed__(...)\n",
            " |      Return a reverse iterator.\n",
            " |  \n",
            " |  count(...)\n",
            " |      rangeobject.count(value) -> integer -- return number of occurrences of value\n",
            " |  \n",
            " |  index(...)\n",
            " |      rangeobject.index(value, [start, [stop]]) -> integer -- return index of value.\n",
            " |      Raise ValueError if the value is not present.\n",
            " |  \n",
            " |  ----------------------------------------------------------------------\n",
            " |  Data descriptors defined here:\n",
            " |  \n",
            " |  start\n",
            " |  \n",
            " |  step\n",
            " |  \n",
            " |  stop\n",
            "\n",
            "None\n"
          ],
          "name": "stdout"
        }
      ]
    },
    {
      "cell_type": "code",
      "metadata": {
        "id": "slyMR81uwx0N",
        "outputId": "2b6a8a64-7593-4503-d1bb-a998911945b0",
        "colab": {
          "base_uri": "https://localhost:8080/"
        }
      },
      "source": [
        "for i in range(0,10):\n",
        "  print(i)"
      ],
      "execution_count": null,
      "outputs": [
        {
          "output_type": "stream",
          "text": [
            "0\n",
            "1\n",
            "2\n",
            "3\n",
            "4\n",
            "5\n",
            "6\n",
            "7\n",
            "8\n",
            "9\n"
          ],
          "name": "stdout"
        }
      ]
    },
    {
      "cell_type": "code",
      "metadata": {
        "id": "2v_n2WgVxkm-",
        "outputId": "72d77aaa-51ff-4f64-ea83-22b53985dc75",
        "colab": {
          "base_uri": "https://localhost:8080/"
        }
      },
      "source": [
        "list1 = [1,2,3,4,5]\n",
        "\n",
        "len(list1)\n",
        "for i,j in en"
      ],
      "execution_count": null,
      "outputs": [
        {
          "output_type": "execute_result",
          "data": {
            "text/plain": [
              "5"
            ]
          },
          "metadata": {
            "tags": []
          },
          "execution_count": 26
        }
      ]
    },
    {
      "cell_type": "code",
      "metadata": {
        "id": "TIEutQQTxpKc",
        "outputId": "03c193b0-3b0f-49f1-cd2d-dcfd73fa6fdb",
        "colab": {
          "base_uri": "https://localhost:8080/"
        }
      },
      "source": [
        "for i in list1:\n",
        "  var34 = \"test\"\n",
        "  print(i,var1)\n",
        "  print(var1)\n",
        "print(var34)"
      ],
      "execution_count": null,
      "outputs": [
        {
          "output_type": "stream",
          "text": [
            "1 test\n",
            "test\n",
            "2 test\n",
            "test\n",
            "3 test\n",
            "test\n",
            "4 test\n",
            "test\n",
            "5 test\n",
            "test\n",
            "test\n"
          ],
          "name": "stdout"
        }
      ]
    },
    {
      "cell_type": "code",
      "metadata": {
        "id": "H5PYRpiuwUus",
        "outputId": "53ddb7f5-b5a9-4350-dea9-70484b5e5096",
        "colab": {
          "base_uri": "https://localhost:8080/"
        }
      },
      "source": [
        "val =10\n",
        "while(val<100):\n",
        "\n",
        "  print(val)\n",
        "  val =val+5\n"
      ],
      "execution_count": null,
      "outputs": [
        {
          "output_type": "stream",
          "text": [
            "10\n",
            "20\n",
            "30\n",
            "40\n",
            "50\n",
            "60\n",
            "70\n",
            "80\n",
            "90\n"
          ],
          "name": "stdout"
        }
      ]
    },
    {
      "cell_type": "markdown",
      "metadata": {
        "id": "eho6bvyde7kE"
      },
      "source": [
        "**Standard Data Types** :The data stored in memory can be of many types.\n",
        "1. Numbers  \n",
        "2.String\n",
        "3.List\n",
        "4.Tuple\n",
        "5.Dictionary\n",
        "\n"
      ]
    },
    {
      "cell_type": "markdown",
      "metadata": {
        "id": "3lgfZsLDjD6E"
      },
      "source": [
        "**Numbers**:Number data types store numeric values. Number objects are created when you assign a value to them. \n",
        "*   int (signed integers)\n",
        "*   long (long integers, they can also be represented in octal and hexadecimal)\n",
        "*   float (floating point real values)\n",
        "*   complex (complex numbers)\n",
        "\n",
        "\n"
      ]
    },
    {
      "cell_type": "code",
      "metadata": {
        "id": "sqf1UeAuX46g"
      },
      "source": [
        "num1 = 1.000000\n",
        "print(type(num1))\n"
      ],
      "execution_count": null,
      "outputs": []
    },
    {
      "cell_type": "markdown",
      "metadata": {
        "id": "yRSAZQe6jmL5"
      },
      "source": [
        "**Strings:** Strings in Python are identified as a contiguous set of characters represented in the quotation marks.\n",
        "String literals in python are surrounded by either single quotation marks, or double quotation marks or thripple quotation.\n",
        "\n",
        "\n",
        "\n",
        ">  * 1  capitalize( ):\tConverts the first character to upper case\n",
        " * 2  casefold( ):\tConverts string into lower case\n",
        " * 3  center( ):\tReturns a centered string\n",
        " * 4  count( ):\tReturns the number of times a specified value occurs in a string\n",
        " * 5  encode( ):\tReturns an encoded version of the string\n",
        " * 6  endswith( ):\tReturns true if the string ends with the specified value\n",
        " * 7  expandtabs( ):\tSets the tab size of the string\n",
        " * 8  find( ):\tSearches the string for a specified value and returns the position of where it was found\n",
        " * 9  format( ):\tFormats specified values in a string\n",
        " * 10 format_map( ):\tFormats specified values in a string\n",
        " * 11 index( ):\tSearches the string for a specified value and returns the position of where it was found\n",
        " * 12 isalnum( ):\tReturns True if all characters in the string are alphanumeric\n",
        " * 13 isalpha( ):\tReturns True if all characters in the string are in the alphabet\n",
        " * 14 isdecimal( ):\tReturns True if all characters in the string are decimals\n",
        " * 15 isdigit( ):\tReturns True if all characters in the string are digits\n",
        " * 16 isidentifier( ):\tReturns True if the string is an identifier\n",
        " * 17 islower( ):\tReturns True if all characters in the string are lower case\n",
        " * 18 isnumeric( ):\tReturns True if all characters in the string are numeric\n",
        " * 19 isprintable( ):\tReturns True if all characters in the string are printable\n",
        " * 20 isspace( ):\tReturns True if all characters in the string are whitespaces\n",
        " * 21 istitle( ):\tReturns True if the string follows the rules of a title\n",
        " * 22 isupper( ):\tReturns True if all characters in the string are upper case\n",
        " * 23 join( ):\tJoins the elements of an iterable to the end of the string\n",
        " * 24 ljust( ):\tReturns a left justified version of the string\n",
        " * 25 lower( ):\tConverts a string into lower case\n",
        " * 26 lstrip( ):\tReturns a left trim version of the string\n",
        " * 27 maketrans( ):\tReturns a translation table to be used in translations\n",
        " * 28 partition( ):\tReturns a tuple where the string is parted into three parts\n",
        " * 29 replace( ):\tReturns a string where a specified value is replaced with a specified value\n",
        " * 30 rfind( ):\tSearches the string for a specified value and returns the last position of where it was found\n",
        " * 31 rindex( ):\tSearches the string for a specified value and returns the last position of where it was found\n",
        " * 32 rjust( ):\tReturns a right justified version of the string\n",
        " * 33 rpartition( ):\tReturns a tuple where the string is parted into three parts\n",
        " * 34 rsplit( ):\tSplits the string at the specified separator, and returns a list\n",
        " * 35 rstrip( ):\tReturns a right trim version of the string\n",
        " * 36 split( ):\tSplits the string at the specified separator, and returns a list\n",
        " * 37 splitlines( ):\tSplits the string at line breaks and returns a list\n",
        " * 38 startswith( ):\tReturns true if the string starts with the specified value\n",
        " * 39 strip( ):\tReturns a trimmed version of the string\n",
        " * 40 swapcase( ):\tSwaps cases, lower case becomes upper case and vice versa\n",
        " * 41 title( ):\tConverts the first character of each word to upper case\n",
        " * 42 translate( ):\tReturns a translated string\n",
        " * 43 upper( ):\tConverts a string into upper case\n",
        " * 44 zfill( ):\tFills the string with a specified number of 0 values at the beginning\n",
        "\n",
        "\n",
        "---\n",
        "\n",
        "\n",
        "\n"
      ]
    },
    {
      "cell_type": "code",
      "metadata": {
        "id": "QKnD5r-DY78G",
        "outputId": "a72aad71-b1df-4ac0-ec4b-120bea52e3dd",
        "colab": {
          "base_uri": "https://localhost:8080/"
        }
      },
      "source": [
        "string1 = 'test1'\n",
        "string2 = \"test2 'strint2'\"\n",
        "string3 = string1+string2\n",
        "string4 = string1.capitalize()\n",
        "string5 = string1.upper()\n",
        "print(string1,string2,string4,string5)\n"
      ],
      "execution_count": null,
      "outputs": [
        {
          "output_type": "stream",
          "text": [
            "test1 test2 'strint2' Test1 TEST1\n"
          ],
          "name": "stdout"
        }
      ]
    },
    {
      "cell_type": "markdown",
      "metadata": {
        "id": "Lu01KcogD33J"
      },
      "source": [
        "**Lists**:Lists are the most versatile of Python's compound data types. A list contains items separated by commas and enclosed within square brackets '[ ]. To some extent, lists are similar to arrays in C. One difference between them is that all the items belonging to a list can be of different data type.\n",
        "\n",
        "Python has a set of built-in methods that you can use on lists:\n",
        "\n",
        " *  1  append(  ):\tAdds an element at the end of the list\n",
        " *  2  clear(  ):\tRemoves all the elements from the list\n",
        " *  3  copy(  ):\tReturns a copy of the list\n",
        " *  4  count(  ):\tReturns the number of elements with the specified value\n",
        " *  5  extend(  ):\tAdd the elements of a list (or any iterable), to the end of the current list\n",
        " *  6  index(  ):\tReturns the index of the first element with the specified value\n",
        " *  7  insert(  ):\tAdds an element at the specified position\n",
        " *  8  pop(  ):\tRemoves the element at the specified position\n",
        " *  9  remove(  ):\tRemoves the first item with the specified value\n",
        " *  10 reverse(  ):\tReverses the order of the list\n",
        " *  11 sort(  ):\tSorts the list\n",
        "\n"
      ]
    },
    {
      "cell_type": "code",
      "metadata": {
        "id": "FbyT0ud6gHoS",
        "outputId": "1c7c8b9f-f497-4587-be97-2699316693bd",
        "colab": {
          "base_uri": "https://localhost:8080/"
        }
      },
      "source": [
        ""
      ],
      "execution_count": null,
      "outputs": [
        {
          "output_type": "stream",
          "text": [
            "None\n"
          ],
          "name": "stdout"
        }
      ]
    },
    {
      "cell_type": "code",
      "metadata": {
        "id": "Kn5yQMQaaher",
        "outputId": "9c394a8b-fd69-4446-e9aa-b32c2c6793d3",
        "colab": {
          "base_uri": "https://localhost:8080/"
        }
      },
      "source": [
        "list1 = [1,2,3,4,5]\n",
        "list2 = []\n",
        "for i in list1:\n",
        "  print(i)\n",
        "  list2.append(i+3)\n",
        "print(list2)\n"
      ],
      "execution_count": null,
      "outputs": [
        {
          "output_type": "stream",
          "text": [
            "1\n",
            "2\n",
            "3\n",
            "4\n",
            "5\n",
            "[4, 5, 6, 7, 8]\n"
          ],
          "name": "stdout"
        }
      ]
    },
    {
      "cell_type": "code",
      "metadata": {
        "id": "e_mye2qiglsR",
        "outputId": "ca6a12b1-60de-411b-a188-58d5b975bd8e",
        "colab": {
          "base_uri": "https://localhost:8080/"
        }
      },
      "source": [
        "print(list2.reverse())"
      ],
      "execution_count": null,
      "outputs": [
        {
          "output_type": "stream",
          "text": [
            "None\n"
          ],
          "name": "stdout"
        }
      ]
    },
    {
      "cell_type": "markdown",
      "metadata": {
        "id": "Fu5NuRF0ahPO"
      },
      "source": [
        ""
      ]
    },
    {
      "cell_type": "markdown",
      "metadata": {
        "id": "DBQnEvqaFHQ2"
      },
      "source": [
        "---\n",
        "**Tuples**: A tuple is another sequence data type that is similar to the list. A tuple consists of a number of values separated by commas.enclosed within square brackets '( )'.\n",
        "A tuple is a collection which is ordered and unchangeable or immutable as it also is called.\n",
        "\n",
        "\n",
        "\n",
        "1\t**Type:** List is mutable.\tTuple is immutable.\n",
        "<br>\n",
        "2\t**Iteration:**\tList iteration is slower and is time consuming.\tTuple iteration is faster.<br>\n",
        "3\t**Appropriate:** for\tList is useful for insertion and deletion operations.\tTuple is useful for readonly operations like accessing elements.<br>\n",
        "4\t**Memory Consumption:**\tList consumes more memory.\tTuples consumes less memory.<br>\n",
        "5\t**Methods:**\tList provides many in-built methods.\tTuples have less in-built methods.<br>\n",
        "6 **Error prone:**\tList operations are more error prone.\tTuples operations are safe.<br>\n",
        "---\n",
        "\n"
      ]
    },
    {
      "cell_type": "markdown",
      "metadata": {
        "id": "CLoBh0_AHCo1"
      },
      "source": [
        "**Dictionary** :Python's dictionaries are kind of Key value pair,Dictionaries are enclosed by curly braces ({ })\n",
        "\n",
        " * 1  clear(  ):\tRemoves all the elements from the dictionary\n",
        " * 2  copy(  ):\tReturns a copy of the dictionary\n",
        " * 3  fromkeys(  ):\tReturns a dictionary with the specified keys and value\n",
        " * 4  get(  ):\tReturns the value of the specified key\n",
        " * 5  items(  ):\tReturns a list containing a tuple for each key value pair\n",
        " * 6  keys(  ):\tReturns a list containing the dictionary's keys\n",
        " * 7  pop(  ):\tRemoves the element with the specified key\n",
        " * 8  popitem(  ):\tRemoves the last inserted key-value pair\n",
        " * 9  setdefault(  ):\tReturns the value of the specified key. If the key does not exist: insert the key, with the specified value\n",
        " * 10 update(  ):\tUpdates the dictionary with the specified key-value pairs\n",
        " * 11 values(  ):\tReturns a list of all the values in the dictionary"
      ]
    },
    {
      "cell_type": "markdown",
      "metadata": {
        "id": "oc7_GqsflO5L"
      },
      "source": [
        "**Operands:** Operators are the constructs which can manipulate the value of operands.\n",
        "\n",
        "Python language supports the following types of operators.\n",
        " \n",
        "*   Arithmetic Operators\n",
        "*  Comparison (Relational) Operators\n",
        "*   Assignment Operators\n",
        "*   Logical Operators\n",
        "*   Bitwise Operators\n",
        "*   Membership Operators\n",
        "*  Identity Operators\n",
        "\n",
        "\n",
        "\n",
        "\n",
        "\n",
        "\n",
        "\n",
        "\n",
        "\n",
        "\n"
      ]
    },
    {
      "cell_type": "markdown",
      "metadata": {
        "id": "3ooF2S3U2cvp"
      },
      "source": [
        "\n",
        "\n"
      ]
    },
    {
      "cell_type": "code",
      "metadata": {
        "id": "AM_U5wt62-sE"
      },
      "source": [
        "> >= < <= = !="
      ],
      "execution_count": null,
      "outputs": []
    },
    {
      "cell_type": "code",
      "metadata": {
        "id": "2WjwXmQkHAhM"
      },
      "source": [
        ""
      ],
      "execution_count": null,
      "outputs": []
    },
    {
      "cell_type": "code",
      "metadata": {
        "id": "whfbhZuNzVPg"
      },
      "source": [
        ""
      ],
      "execution_count": null,
      "outputs": []
    },
    {
      "cell_type": "code",
      "metadata": {
        "id": "2Xgaj0YkX1VS"
      },
      "source": [
        ""
      ],
      "execution_count": null,
      "outputs": []
    },
    {
      "cell_type": "code",
      "metadata": {
        "id": "pNNt0-E-X1bs"
      },
      "source": [
        ""
      ],
      "execution_count": null,
      "outputs": []
    }
  ]
}