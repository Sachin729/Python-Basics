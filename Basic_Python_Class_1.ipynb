{
  "nbformat": 4,
  "nbformat_minor": 0,
  "metadata": {
    "colab": {
      "name": "Basic Python Class 1.ipynb",
      "provenance": [],
      "collapsed_sections": [],
      "authorship_tag": "ABX9TyMECbhFTCGKtx1YWd+8L/V9",
      "include_colab_link": true
    },
    "kernelspec": {
      "name": "python3",
      "display_name": "Python 3"
    }
  },
  "cells": [
    {
      "cell_type": "markdown",
      "metadata": {
        "id": "view-in-github",
        "colab_type": "text"
      },
      "source": [
        "<a href=\"https://colab.research.google.com/github/Sachin729/Python-Basics/blob/main/Basic_Python_Class_1.ipynb\" target=\"_parent\"><img src=\"https://colab.research.google.com/assets/colab-badge.svg\" alt=\"Open In Colab\"/></a>"
      ]
    },
    {
      "cell_type": "markdown",
      "metadata": {
        "id": "KxJkAHebe9Dg"
      },
      "source": [
        "\n",
        "\n",
        " \n",
        "## **Introduction to Python**\n",
        "*   Variables,Standard Data Types\n",
        "*   Comments, Types of  comments\n",
        "*   Conditional Statements\n",
        "*   Loops\n",
        "*   Operands and Expressions\n",
        "\n",
        "\n",
        "\n",
        "\n",
        "\n",
        "\n"
      ]
    },
    {
      "cell_type": "markdown",
      "metadata": {
        "id": "oUFqai5Phj3v"
      },
      "source": [
        "**Variables:**Variables are nothing but reserved memory locations to store values. This means that when you create a variable you reserve some space in memory.\n",
        "\n",
        "\n",
        "*   Assigning Values to Variables\n",
        "*   Multiple Assignment\n",
        "\n"
      ]
    },
    {
      "cell_type": "markdown",
      "metadata": {
        "id": "HSF2aMSJ2kM_"
      },
      "source": [
        "**Conditional Statements** :The if condition is considered the simplest of the three and makes a decision based on whether the condition is true or not. If the condition is true, it prints out the indented expression. If the condition is false, it skips printing the indented expression.\n",
        "\n",
        "If statement: \n",
        "Syntax: if contition :\n",
        "            Body of it \n",
        "        else:\n",
        "            next "
      ]
    },
    {
      "cell_type": "markdown",
      "metadata": {
        "id": "mK5KGR3u9RHS"
      },
      "source": [
        "**Loops:**Loop continues until we reach the last item in the sequence or itterate till condition fails. The body of for loop is separated from the rest of the code using indentation.\n",
        "<br>\n",
        "\n",
        "* While loop :we can execute a set of statements as long as a condition is true.\n",
        "* For loop : A for loop is used for iterating over a sequence (that is either a list, a tuple, a dictionary, a set, or a string).\n",
        "\n",
        "\n",
        "> * Range() Function\n",
        "\n",
        "\n",
        "> * Continue Statement\n",
        "\n",
        "\n",
        "> * Break Statement\n",
        "\n",
        "\n",
        "\n",
        "\n",
        "\n",
        "\n",
        "\n",
        "\n",
        "\n",
        "\n"
      ]
    },
    {
      "cell_type": "markdown",
      "metadata": {
        "id": "eho6bvyde7kE"
      },
      "source": [
        "**Standard Data Types** :The data stored in memory can be of many types.\n",
        "1. Numbers  \n",
        "2.String\n",
        "3.List\n",
        "4.Tuple\n",
        "5.Dictionary\n",
        "\n"
      ]
    },
    {
      "cell_type": "markdown",
      "metadata": {
        "id": "3lgfZsLDjD6E"
      },
      "source": [
        "**Numbers**:Number data types store numeric values. Number objects are created when you assign a value to them. \n",
        "*   int (signed integers)\n",
        "*   long (long integers, they can also be represented in octal and hexadecimal)\n",
        "*   float (floating point real values)\n",
        "*   complex (complex numbers)\n",
        "\n",
        "\n"
      ]
    },
    {
      "cell_type": "markdown",
      "metadata": {
        "id": "yRSAZQe6jmL5"
      },
      "source": [
        "**Strings:** Strings in Python are identified as a contiguous set of characters represented in the quotation marks.\n",
        "String literals in python are surrounded by either single quotation marks, or double quotation marks or thripple quotation.\n",
        "\n",
        "\n",
        "\n",
        ">  * 1  capitalize( ):\tConverts the first character to upper case\n",
        " * 2  casefold( ):\tConverts string into lower case\n",
        " * 3  center( ):\tReturns a centered string\n",
        " * 4  count( ):\tReturns the number of times a specified value occurs in a string\n",
        " * 5  encode( ):\tReturns an encoded version of the string\n",
        " * 6  endswith( ):\tReturns true if the string ends with the specified value\n",
        " * 7  expandtabs( ):\tSets the tab size of the string\n",
        " * 8  find( ):\tSearches the string for a specified value and returns the position of where it was found\n",
        " * 9  format( ):\tFormats specified values in a string\n",
        " * 10 format_map( ):\tFormats specified values in a string\n",
        " * 11 index( ):\tSearches the string for a specified value and returns the position of where it was found\n",
        " * 12 isalnum( ):\tReturns True if all characters in the string are alphanumeric\n",
        " * 13 isalpha( ):\tReturns True if all characters in the string are in the alphabet\n",
        " * 14 isdecimal( ):\tReturns True if all characters in the string are decimals\n",
        " * 15 isdigit( ):\tReturns True if all characters in the string are digits\n",
        " * 16 isidentifier( ):\tReturns True if the string is an identifier\n",
        " * 17 islower( ):\tReturns True if all characters in the string are lower case\n",
        " * 18 isnumeric( ):\tReturns True if all characters in the string are numeric\n",
        " * 19 isprintable( ):\tReturns True if all characters in the string are printable\n",
        " * 20 isspace( ):\tReturns True if all characters in the string are whitespaces\n",
        " * 21 istitle( ):\tReturns True if the string follows the rules of a title\n",
        " * 22 isupper( ):\tReturns True if all characters in the string are upper case\n",
        " * 23 join( ):\tJoins the elements of an iterable to the end of the string\n",
        " * 24 ljust( ):\tReturns a left justified version of the string\n",
        " * 25 lower( ):\tConverts a string into lower case\n",
        " * 26 lstrip( ):\tReturns a left trim version of the string\n",
        " * 27 maketrans( ):\tReturns a translation table to be used in translations\n",
        " * 28 partition( ):\tReturns a tuple where the string is parted into three parts\n",
        " * 29 replace( ):\tReturns a string where a specified value is replaced with a specified value\n",
        " * 30 rfind( ):\tSearches the string for a specified value and returns the last position of where it was found\n",
        " * 31 rindex( ):\tSearches the string for a specified value and returns the last position of where it was found\n",
        " * 32 rjust( ):\tReturns a right justified version of the string\n",
        " * 33 rpartition( ):\tReturns a tuple where the string is parted into three parts\n",
        " * 34 rsplit( ):\tSplits the string at the specified separator, and returns a list\n",
        " * 35 rstrip( ):\tReturns a right trim version of the string\n",
        " * 36 split( ):\tSplits the string at the specified separator, and returns a list\n",
        " * 37 splitlines( ):\tSplits the string at line breaks and returns a list\n",
        " * 38 startswith( ):\tReturns true if the string starts with the specified value\n",
        " * 39 strip( ):\tReturns a trimmed version of the string\n",
        " * 40 swapcase( ):\tSwaps cases, lower case becomes upper case and vice versa\n",
        " * 41 title( ):\tConverts the first character of each word to upper case\n",
        " * 42 translate( ):\tReturns a translated string\n",
        " * 43 upper( ):\tConverts a string into upper case\n",
        " * 44 zfill( ):\tFills the string with a specified number of 0 values at the beginning\n",
        "\n",
        "\n",
        "---\n",
        "\n",
        "\n",
        "\n"
      ]
    },
    {
      "cell_type": "markdown",
      "metadata": {
        "id": "Lu01KcogD33J"
      },
      "source": [
        "**Lists**:Lists are the most versatile of Python's compound data types. A list contains items separated by commas and enclosed within square brackets '[ ]. To some extent, lists are similar to arrays in C. One difference between them is that all the items belonging to a list can be of different data type.\n",
        "\n",
        "Python has a set of built-in methods that you can use on lists:\n",
        "\n",
        " *  1  append(  ):\tAdds an element at the end of the list\n",
        " *  2  clear(  ):\tRemoves all the elements from the list\n",
        " *  3  copy(  ):\tReturns a copy of the list\n",
        " *  4  count(  ):\tReturns the number of elements with the specified value\n",
        " *  5  extend(  ):\tAdd the elements of a list (or any iterable), to the end of the current list\n",
        " *  6  index(  ):\tReturns the index of the first element with the specified value\n",
        " *  7  insert(  ):\tAdds an element at the specified position\n",
        " *  8  pop(  ):\tRemoves the element at the specified position\n",
        " *  9  remove(  ):\tRemoves the first item with the specified value\n",
        " *  10 reverse(  ):\tReverses the order of the list\n",
        " *  11 sort(  ):\tSorts the list\n",
        "\n"
      ]
    },
    {
      "cell_type": "markdown",
      "metadata": {
        "id": "DBQnEvqaFHQ2"
      },
      "source": [
        "---\n",
        "**Tuples**: A tuple is another sequence data type that is similar to the list. A tuple consists of a number of values separated by commas.enclosed within square brackets '( )'.\n",
        "A tuple is a collection which is ordered and unchangeable or immutable as it also is called.\n",
        "\n",
        "\n",
        "\n",
        "1\t**Type:** List is mutable.\tTuple is immutable.\n",
        "<br>\n",
        "2\t**Iteration:**\tList iteration is slower and is time consuming.\tTuple iteration is faster.<br>\n",
        "3\t**Appropriate:** for\tList is useful for insertion and deletion operations.\tTuple is useful for readonly operations like accessing elements.<br>\n",
        "4\t**Memory Consumption:**\tList consumes more memory.\tTuples consumes less memory.<br>\n",
        "5\t**Methods:**\tList provides many in-built methods.\tTuples have less in-built methods.<br>\n",
        "## 6 **Error prone:**\tList operations are more error prone.\tTuples operations are safe\n",
        "---\n",
        "\n"
      ]
    },
    {
      "cell_type": "markdown",
      "metadata": {
        "id": "ftrCU5B6KaHL"
      },
      "source": [
        "* 1. Take 10 integer inputs from user and store them in a list and print them on screen.\n",
        "* 2. Take 10 integer inputs from user and store them in a list. Again ask user to give a number. Now, tell user whether that number is present in list or not.\n",
        "( Iterate over list using while loop ).\n",
        "* 3. Take 20 integer inputs from user and print the following:\n",
        "number of positive numbers\n",
        "number of negative numbers\n",
        "number of odd numbers\n",
        "number of even numbers\n",
        "number of 0s.\n",
        "* 4. Take 10 integer inputs from user and store them in a list. Now, copy all the elements in another list but in reverse order.\n",
        "* 5.Write a program to find the sum of all elements of a list.\n",
        "* 6.Write a program to find the product of all elements of a list.\n",
        "* 7.Initialize and print each element in new line of a list inside list.\n",
        "* 8. Find largest and smallest elements of a list.\n",
        "* 9.Write a program to print sum, average of all numbers, smallest and largest element of a list.\n",
        "* 10.Write a program to check if elements of a list are same or not it read from front or back. E.g.-\n",
        "2\t3\t15\t15\t3\t2\n",
        "* 11.Make a list by taking 10 input from user. Now delete all repeated elements of the list.\n",
        "E.g.-\n",
        "INPUT : [1,2,3,2,1,3,12,12,32]\n",
        "OUTPUT : [1,2,3,12,32]\n",
        "* 12.Take a list of 10 elements. Split it into middle and store the elements in two dfferent lists. E.g.-\n",
        "INITIAL list :\n",
        "58\t24\t13\t15\t63\t9\t8\t81\t1\t78\n",
        "\n",
        "After spliting :\n",
        "58\t24\t13\t15\t63\n",
        "9\t8\t81\t1\t78\n",
        "* 13. Ask user to give integer inputs to make a list. Store only even values given and print the list.\n"
      ]
    },
    {
      "cell_type": "markdown",
      "metadata": {
        "id": "CLoBh0_AHCo1"
      },
      "source": [
        "**Dictionary** :Python's dictionaries are kind of Key value pair,Dictionaries are enclosed by curly braces ({ })\n",
        "\n",
        " * 1  clear(  ):\tRemoves all the elements from the dictionary\n",
        " * 2  copy(  ):\tReturns a copy of the dictionary\n",
        " * 3  fromkeys(  ):\tReturns a dictionary with the specified keys and value\n",
        " * 4  get(  ):\tReturns the value of the specified key\n",
        " * 5  items(  ):\tReturns a list containing a tuple for each key value pair\n",
        " * 6  keys(  ):\tReturns a list containing the dictionary's keys\n",
        " * 7  pop(  ):\tRemoves the element with the specified key\n",
        " * 8  popitem(  ):\tRemoves the last inserted key-value pair\n",
        " * 9  setdefault(  ):\tReturns the value of the specified key. If the key does not exist: insert the key, with the specified value\n",
        " * 10 update(  ):\tUpdates the dictionary with the specified key-value pairs\n",
        " * 11 values(  ):\tReturns a list of all the values in the dictionary"
      ]
    },
    {
      "cell_type": "markdown",
      "metadata": {
        "id": "FGnlp9eIIzFn"
      },
      "source": [
        "**Order of Operations**<BR>\n",
        "\n",
        "When an expression contains more than one operator, the order of evaluation\n",
        "depends on the order of operations. For mathematical operators, Python follows\n",
        "mathematical convention. The acronym PEMDAS is a useful way to remember the\n",
        "rules:\n",
        "* • Parentheses have the highest precedence and can be used to force an expression\n",
        "to evaluate in the order you want. Since expressions in parentheses are evaluated\n",
        "first, 2 * (3-1) is 4, and (1+1)**(5-2) is 8. You can also use parentheses to\n",
        "make an expression easier to read, as in (minute * 100) / 60, even if it doesn’t\n",
        "change the result.\n",
        "* • Exponentiation h\n",
        "as the next highest precedence, so 1 + 2\\*\\*3 is 9, not 27, and 2* 3**2 is 18, not 36.\n",
        "* • Multiplication and Division have higher precedence than Addition and Subtrac‐\n",
        "tion. So 2*3-1 is 5, not 4, and 6+4/2 is 8, not 5.\n",
        "* • Operators with the same precedence are evaluated from left to right (except\n",
        "exponentiation). So in the expression degrees / 2 * pi, the division happens\n",
        "first and the result is multiplied by pi. To divide by 2π, you can use parentheses\n",
        "or write degrees / 2 / pi."
      ]
    },
    {
      "cell_type": "markdown",
      "metadata": {
        "id": "jv9qb2rsJe1B"
      },
      "source": [
        "* variable: A name that refers to a value.\n",
        "* assignment:A statement that assigns a value to a variable.\n",
        "state diagram:A graphical representation of a set of variables and the values they refer to.\n",
        "* keyword: A reserved word that is used to parse a program; you cannot use keywords like\n",
        "if, def, and while as variable names.\n",
        "* operand:One of the values on which an operator operates.\n",
        "expression:A combination of variables, operators, and values that represents a single result.\n",
        "* evaluate:To simplify an expression by performing the operations in order to yield a single\n",
        "value.\n",
        "* statement:A section of code that represents a command or action. So far, the statements we\n",
        "have seen are assignments and print statements.\n",
        "* execute:To run a statement and do what it says.\n",
        "* interactive mode:A way of using the Python interpreter by typing code at the prompt\n",
        "script mode:\n",
        "* A way of using the Python interpreter to read code from a script and run it.\n",
        "script:\n",
        "A program stored in a file.\n",
        "* order of operations:\n",
        "Rules governing the order in which expressions involving multiple operators and\n",
        "operands are evaluated.\n",
        "* concatenate:\n",
        "To join two operands end-to-end.\n",
        "* comment:\n",
        "Information in a program that is meant for other programmers (or anyone read‐\n",
        "ing the source code) and has no effect on the execution of the program.\n",
        "syntax error:\n",
        "An error in a program that makes it impossible to parse (and therefore impossi‐\n",
        "ble to interpret).\n",
        "* exception:\n",
        "An error that is detected while the program is running.\n",
        "* semantics:\n",
        "The meaning of a program.\n",
        "* semantic error:\n",
        "An error in a program that makes it do something other than what the program‐\n",
        "mer intended.\n"
      ]
    },
    {
      "cell_type": "code",
      "metadata": {
        "id": "mkhqZSnDectm"
      },
      "source": [
        ""
      ],
      "execution_count": null,
      "outputs": []
    },
    {
      "cell_type": "markdown",
      "metadata": {
        "id": "odhHkUU2hj_y"
      },
      "source": [
        "**Input from Keyboard** : In Python, we use input() function to take input from the user. Whatever you enter as input, the input function converts it into a string. If you enter an integer value still input() function convert it into a string.\n",
        "<br>Syntax: **input**()\n",
        "\n",
        "\n",
        ")\n",
        "\n",
        "Parameter:\n",
        "\n",
        "Prompt: (optional) The string that is written to standard output(usually screen) without newline.\n",
        "Return: **String object**"
      ]
    },
    {
      "cell_type": "markdown",
      "metadata": {
        "id": "oc7_GqsflO5L"
      },
      "source": [
        "**Operands:**Operators are special symbols in Python that carry out arithmetic or logical computation. The value that the operator operates on is called the operand.\n",
        "\n",
        "Python language supports the following types of operators.\n",
        " \n",
        "*   Arithmetic Operators\n",
        "*  Comparison (Relational) Operators\n",
        "*   Assignment Operators\n",
        "*   Logical Operators\n",
        "*   Bitwise Operators\n",
        "*   Membership Operators\n",
        "*  Identity Operators\n",
        "\n",
        "\n",
        "\n",
        "\n",
        "\n",
        "\n",
        "\n",
        "\n",
        "\n",
        "\n"
      ]
    },
    {
      "cell_type": "markdown",
      "metadata": {
        "id": "wUzxVcaYjrCe"
      },
      "source": [
        "**Arithmetic Operators**\n",
        "+\tAdd two operands or unary plus\tx + y+ 2\n",
        "-\tSubtract right operand from the left or unary minus\tx - y- 2\n",
        "*\tMultiply two operands\tx * y\n",
        "/\tDivide left operand by the right one (always results into float)\tx / y\n",
        "%\tModulus - remainder of the division of left operand by the right\tx % y (remainder of x/y)\n",
        "//\tFloor division - division that results into whole number adjusted to the left in the number line\tx // y\n",
        "**\tExponent - left operand raised to the power of right\tx**y (x to the power y)"
      ]
    },
    {
      "cell_type": "code",
      "metadata": {
        "id": "FzjnO1bi1RAQ",
        "colab": {
          "base_uri": "https://localhost:8080/"
        },
        "outputId": "329dda1a-0c5e-42d5-ce98-8ae459848421"
      },
      "source": [
        ""
      ],
      "execution_count": null,
      "outputs": [
        {
          "output_type": "execute_result",
          "data": {
            "text/plain": [
              "4"
            ]
          },
          "metadata": {
            "tags": []
          },
          "execution_count": 42
        }
      ]
    },
    {
      "cell_type": "markdown",
      "metadata": {
        "id": "0OmmVrSej0xQ"
      },
      "source": [
        "**Comparison operators**Comparison operators are used to compare values. It returns either True or False according to the condition.\n",
        "\n",
        "Operator\tMeaning\tExample\n",
        ">\tGreater than - True if left operand is greater than the right\tx > y\n",
        "<\tLess than - True if left operand is less than the right\tx < y\n",
        "==\tEqual to - True if both operands are equal\tx == y\n",
        "!=\tNot equal to - True if operands are not equal\tx != y\n",
        ">=\tGreater than or equal to - True if left operand is greater than or equal to the right\tx >= y\n",
        "<=\tLess than or equal to - True if left operand is less than or equal to the right\tx <= y"
      ]
    },
    {
      "cell_type": "markdown",
      "metadata": {
        "id": "mBW448LfkGGs"
      },
      "source": [
        "**Logical operators** and\tTrue if both the operands are true\tx and y\n",
        "or\tTrue if either of the operands is true\tx or y\n",
        "not\tTrue if operand is false (complements the operand)\tnot x"
      ]
    },
    {
      "cell_type": "markdown",
      "metadata": {
        "id": "ckzUZNeUkYie"
      },
      "source": [
        "**Assignment operators**\n",
        "Assignment operators are used in Python to assign values to variables.\n",
        "\n",
        "a = 5 is a simple assignment operator that assigns the value 5 on the right to the variable a on the left.\n",
        "\n",
        "There are various compound operators in Python like a += 5 that adds to the variable and later assigns the same. It is equivalent to a = a + 5.\n",
        "\n",
        "x = 5\t\n",
        "x += 5\t             x = x + 5<br>\n",
        "x -= 5\tx = x - 5\n",
        "<br>x *= 5\tx = x * 5\n",
        "<br>x /= 5\tx = x / 5\n",
        "<br>x %= 5\tx = x % 5\n",
        "<br>x //= 5\tx = x // 5\n",
        "<br>x **= 5\tx = x ** 5\n",
        "<br>x &= 5\tx = x & 5\n",
        "<br>x |= 5\tx = x | 5\n",
        "<br>x ^= 5\tx = x ^ 5\n",
        "<br>x >>= 5\tx = x >> 5\n",
        "<br>x <<= 5\tx = x << 5\n"
      ]
    },
    {
      "cell_type": "markdown",
      "metadata": {
        "id": "e_FeW09jicSM"
      },
      "source": [
        "**Functions** :\n",
        "<br>A function is a block of organized, reusable code that is used to perform a single, related action. Functions provide better modularity for your application and a high degree of code reusing.\n",
        "<br>**Note:**A function is a block of code which only runs when it is called.\n",
        "<br>\n",
        "Defining a Function\n",
        "You can define functions to provide the required functionality. Here are simple rules to define a function in Python.\n",
        "\n",
        "Function blocks begin with the keyword **def** followed by the function name and parentheses ( ( ) ).\n",
        "\n",
        "Any input parameters or arguments should be placed within these parentheses. You can also define parameters inside these parentheses.\n",
        "\n",
        "The first statement of a function can be an optional statement - the documentation string of the function or docstring.\n",
        "\n",
        "The code block within every function starts with a colon (:) and is indented.\n",
        "\n",
        "The statement return [expression] exits a function, optionally passing back an expression to the caller. A return statement with no arguments is the same as return None.\n",
        "\n",
        "**Syntax**:\n",
        "<br>def functionname( parameters ):\n",
        "   <br>\"function_docstring\"\n",
        "   <br>function_suite\n",
        "   <br> return [expression]"
      ]
    },
    {
      "cell_type": "code",
      "metadata": {
        "id": "pXyxNGiDw1UB",
        "colab": {
          "base_uri": "https://localhost:8080/"
        },
        "outputId": "176be673-da29-48cc-ca22-eb6f62a630d0"
      },
      "source": [
        "def my_fucn():\n",
        "  var =1\n",
        "  print(\"hello world\",var)\n",
        "\n",
        "my_fucn()\n",
        "# print(var1)\n",
        "\n"
      ],
      "execution_count": null,
      "outputs": [
        {
          "output_type": "stream",
          "text": [
            "hello world 1\n"
          ],
          "name": "stdout"
        }
      ]
    },
    {
      "cell_type": "markdown",
      "metadata": {
        "id": "11UJZsCikJ35"
      },
      "source": [
        "**Scope and Lifetime of variables**<br>\n",
        "Scope of a variable is the portion of a program where the variable is recognized. Parameters and variables defined inside a function are not visible from outside the function. Hence, they have a local scope.\n",
        "\n",
        "The lifetime of a variable is the period throughout which the variable exits in the memory. The lifetime of variables inside a function is as long as the function executes.\n",
        "\n",
        "They are destroyed once we return from the function. Hence, a function does not remember the value of a variable from its previous calls.\n",
        "\n",
        "Here is an example to illustrate the scope of a variable inside a function."
      ]
    },
    {
      "cell_type": "code",
      "metadata": {
        "id": "QWT417qZkFRF",
        "colab": {
          "base_uri": "https://localhost:8080/"
        },
        "outputId": "ba06914d-6e9b-4e61-9713-1aa8f39051a1"
      },
      "source": [
        "def my_func():\n",
        "\tx = 10\n",
        "\tprint(\"Value inside function:\",x)\n",
        "\n",
        "x = 20\n",
        "my_func()\n",
        "print(\"Value outside function:\",x)"
      ],
      "execution_count": null,
      "outputs": [
        {
          "output_type": "stream",
          "text": [
            "Value inside function: 10\n",
            "Value outside function: 20\n"
          ],
          "name": "stdout"
        }
      ]
    },
    {
      "cell_type": "markdown",
      "metadata": {
        "id": "eRVBpfLmk8ME"
      },
      "source": [
        "**Types of Functions**<br>\n",
        "\n",
        "\n",
        "*    **Built-in functions** - Functions that are built into Python.\n",
        "*   **User-defined functions** - Functions defined by the users themselves.\n",
        "\n",
        "\n"
      ]
    },
    {
      "cell_type": "code",
      "metadata": {
        "colab": {
          "base_uri": "https://localhost:8080/",
          "height": 35
        },
        "id": "oDtPjlOwzCQP",
        "outputId": "15f52b2f-7101-4f96-89d1-8d19af8264e5"
      },
      "source": [
        "ascii('a')"
      ],
      "execution_count": null,
      "outputs": [
        {
          "output_type": "execute_result",
          "data": {
            "application/vnd.google.colaboratory.intrinsic+json": {
              "type": "string"
            },
            "text/plain": [
              "\"'a'\""
            ]
          },
          "metadata": {
            "tags": []
          },
          "execution_count": 36
        }
      ]
    },
    {
      "cell_type": "markdown",
      "metadata": {
        "id": "OFqwr9S9l7p5"
      },
      "source": [
        "   * 1    abs()\tReturns the absolute value of a number\n",
        "   * 2    all()\tReturns True if all items in an iterable object are true\n",
        "   * 3    any()\tReturns True if any item in an iterable object is true\n",
        "   * 4    ascii()\tReturns a readable version of an object. Replaces none-ascii characters with escape character\n",
        "   * 5    bin()\tReturns the binary version of a number\n",
        "   * 6    bool()\tReturns the boolean value of the specified object\n",
        "   * 7    bytearray()\tReturns an array of bytes\n",
        "   * 8    bytes()\tReturns a bytes object\n",
        "   * 9    callable()\tReturns True if the specified object is callable, otherwise False\n",
        "   * 10   chr()\tReturns a character from the specified Unicode code.\n",
        "   * 11   classmethod()\tConverts a method into a class method\n",
        "   * 12   compile()\tReturns the specified source as an object, ready to be executed\n",
        "   * 13   complex()\tReturns a complex number\n",
        "   * 14   delattr()\tDeletes the specified attribute (property or method) from the specified object\n",
        "   * 15   dict()\tReturns a dictionary (Array)\n",
        "   * 16   dir()\tReturns a list of the specified object's properties and methods\n",
        "   * 17   divmod()\tReturns the quotient and the remainder when argument1 is divided by argument2\n",
        "   * 18   enumerate()\tTakes a collection (e.g. a tuple) and returns it as an enumerate object\n",
        "   * 19   eval()\tEvaluates and executes an expression\n",
        "   * 20   exec()\tExecutes the specified code (or object)\n",
        "   * 21   filter()\tUse a filter function to exclude items in an iterable object\n",
        "   * 22   float()\tReturns a floating point number\n",
        "   * 23   format()\tFormats a specified value\n",
        "   * 24   frozenset()\tReturns a frozenset object\n",
        "   * 25   getattr()\tReturns the value of the specified attribute (property or method)\n",
        "   * 26   globals()\tReturns the current global symbol table as a dictionary\n",
        "   * 27   hasattr()\tReturns True if the specified object has the specified attribute (property/method)\n",
        "   * 28   hash()\tReturns the hash value of a specified object\n",
        "   * 29   help()\tExecutes the built-in help system\n",
        "   * 30   hex()\tConverts a number into a hexadecimal value\n",
        "   * 31   id()\tReturns the id of an object\n",
        "   * 32   input()\tAllowing user input\n",
        "   * 33   int()\tReturns an integer number\n",
        "   * 34   isinstance()\tReturns True if a specified object is an instance of a specified object\n",
        "   * 35   issubclass()\tReturns True if a specified class is a subclass of a specified object\n",
        "   * 36   iter()\tReturns an iterator object\n",
        "   * 37   len()\tReturns the length of an object\n",
        "   * 38   list()\tReturns a list\n",
        "   * 39   locals()\tReturns an updated dictionary of the current local symbol table\n",
        "   * 40   map()\tReturns the specified iterator with the specified function applied to each item\n",
        "   * 41   max()\tReturns the largest item in an iterable\n",
        "   * 42   memoryview()\tReturns a mem`ory view object\n",
        "   * 43   min()\tReturns the smallest item in an iterable\n",
        "   * 44   next()\tReturns the next item in an iterable\n",
        "   * 45   object()\tReturns a new object\n",
        "   * 46   oct()\tConverts a number into an octal\n",
        "   * 47   open()\tOpens a file and returns a file object\n",
        "   * 48   ord()\tConvert an integer representing the Unicode of the specified character\n",
        "   * 49   pow()\tReturns the value of x to the power of y\n",
        "   * 50   print()\tPrints to the standard output device\n",
        "   * 51   property()\tGets, sets, deletes a property\n",
        "   * 52   range()\tReturns a sequence of numbers, starting from 0 and increments by 1 (by default)\n",
        "   * 53   repr()\tReturns a readable version of an object\n",
        "   * 54   reversed()\tReturns a reversed iterator\n",
        "   * 55   round()\tRounds a numbers\n",
        "   * 56   set()\tReturns a new set object\n",
        "   * 57   setattr()\tSets an attribute (property/method) of an object\n",
        "   * 58   slice()\tReturns a slice object \n",
        "   * 59   sorted()\tReturns a sorted l ist\n",
        "   * 60   @staticmethod()\tConverts a met hod into a static method\n",
        "   * 61   str()\tReturns a string objec t\n",
        "   * 62   sum()\tSums the items of an i terator\n",
        "   * 63   super()\tReturns an object that  represents the parent class\n",
        "   * 64   tuple()\tReturns a tuple        \n",
        "   * 65   type()\tReturns the type of an  object\n",
        "   * 66   vars()\tReturns the __dict__ p roperty of an object\n",
        "   * 67   zip()\tReturns an iterator, f rom two or more iterators"
      ]
    },
    {
      "cell_type": "markdown",
      "metadata": {
        "id": "mHenj0HloWTb"
      },
      "source": [
        "\n",
        "You can call a function by using the following types of formal arguments −\n",
        "\n",
        "* Required arguments\n",
        "* Keyword arguments\n",
        "* Default arguments\n",
        "* Variable-length arguments"
      ]
    },
    {
      "cell_type": "markdown",
      "metadata": {
        "id": "1r3M_CV4pBcP"
      },
      "source": [
        "**Arbitrary Arguments**, *args \n",
        "Sometimes, we do not know in advance the number of arguments that will be passed into a function. Python allows us to handle this kind of situation through function calls with an arbitrary number of arguments.\n",
        "\n",
        "In the function definition, we use an asterisk (*) before the parameter name to denote this kind of argument. Here is an example"
      ]
    },
    {
      "cell_type": "markdown",
      "metadata": {
        "id": "K6EBvnO7pVQK"
      },
      "source": [
        "**Arbitrary Keyword Arguments, **kwargs** \n",
        "If you do not know how many keyword arguments that will be passed into your function, add two asterisk: ** before the parameter name in the function definition.\n",
        "\n",
        "This way the function will receive a dictionary of arguments, and can access the items accordingly:\n",
        "\n"
      ]
    },
    {
      "cell_type": "markdown",
      "metadata": {
        "id": "BpebtfDoLily"
      },
      "source": [
        "**Module**:A file that contains a collection of related functions and other definitions.<BR>\n",
        "**Import statement:**\n",
        "A statement that reads a module file and creates a module object.\n",
        "module object:\n",
        "A value created by an import statement that provides access to the values defined in a module.<br>\n",
        "**Dot notation:**\n",
        "The syntax for calling a function in another module by specifying the module\n",
        "name followed by a dot (period) and the function name.\n",
        "<br>\n",
        "**Re-naming a Module**:You can create an alias when you import a module, by using the as keyword\n",
        "<br>\n",
        "\n",
        "**Modular programming** refers to the process of breaking a large, unwieldy programming task into separate, smaller, more manageable subtasks or modules. Individual modules can then be cobbled together like building blocks to create a larger application.\n",
        "<br>\n",
        "There are several advantages to modularizing code in a large application:\n",
        "\n",
        "* **Simplicity:** Rather than focusing on the entire problem at hand, a module typically focuses on one relatively small portion of the problem. If you’re working on a single module, you’ll have a smaller problem domain to wrap your head around. This makes development easier and less error-prone.\n",
        "\n",
        "* **Maintainability:** Modules are typically designed so that they enforce logical boundaries between different problem domains. If modules are written in a way that minimizes interdependency, there is decreased likelihood that modifications to a single module will have an impact on other parts of the program. (You may even be able to make changes to a module without having any knowledge of the application outside that module.) This makes it more viable for a team of many programmers to work collaboratively on a large application.\n",
        "\n",
        "* **Reusability:** Functionality defined in a single module can be easily reused (through an appropriately defined interface) by other parts of the application. This eliminates the need to duplicate code.\n",
        "\n",
        "* **Scoping:** Modules typically define a separate namespace, which helps avoid collisions between identifiers in different areas of a program. (One of the tenets in the Zen of Python is Namespaces are one honking great idea—let’s do more of those!)\n"
      ]
    },
    {
      "cell_type": "markdown",
      "metadata": {
        "id": "owgvrDqrOoIG"
      },
      "source": [
        "Package Initialization\n",
        "If a file named __init__.py is present in a package directory, it is invoked when the package or a module in the package is imported. This can be used for execution of package initialization code, such as initialization of package-level data.\n",
        "\n",
        "For example, consider the following __init__.py file:\n",
        "\n",
        "__init__.py"
      ]
    },
    {
      "cell_type": "code",
      "metadata": {
        "id": "gKcrbZv4l69M",
        "colab": {
          "base_uri": "https://localhost:8080/"
        },
        "outputId": "668315f2-cd87-4c77-b26d-140bfef61e6d"
      },
      "source": [
        "from math import sin as s,gcd as g\n",
        "# import math\n",
        "import sys\n",
        "content = dir(math)\n",
        "print(content)\n",
        "if __name__ == \"__main__\":\n",
        "  print(\"hello\")"
      ],
      "execution_count": null,
      "outputs": [
        {
          "output_type": "stream",
          "text": [
            "['__doc__', '__loader__', '__name__', '__package__', '__spec__', 'acos', 'acosh', 'asin', 'asinh', 'atan', 'atan2', 'atanh', 'ceil', 'copysign', 'cos', 'cosh', 'degrees', 'e', 'erf', 'erfc', 'exp', 'expm1', 'fabs', 'factorial', 'floor', 'fmod', 'frexp', 'fsum', 'gamma', 'gcd', 'hypot', 'inf', 'isclose', 'isfinite', 'isinf', 'isnan', 'ldexp', 'lgamma', 'log', 'log10', 'log1p', 'log2', 'modf', 'nan', 'pi', 'pow', 'radians', 'sin', 'sinh', 'sqrt', 'tan', 'tanh', 'tau', 'trunc']\n"
          ],
          "name": "stdout"
        },
        {
          "output_type": "execute_result",
          "data": {
            "text/plain": [
              "1"
            ]
          },
          "metadata": {
            "tags": []
          },
          "execution_count": 9
        }
      ]
    },
    {
      "cell_type": "markdown",
      "metadata": {
        "id": "MMzUIfCEY4HA"
      },
      "source": [
        "**Exceptions Handling** Python provides two very important features to handle any unexpected error in your Python programs and to add debugging capabilities in them \n",
        "* Exception Handling\n",
        "* Assertions \n"
      ]
    },
    {
      "cell_type": "markdown",
      "metadata": {
        "id": "9ctnMyClaTeX"
      },
      "source": [
        "* 1 Exception :Base class for all exceptions\n",
        "* \n",
        "* 2 StopIteration: Raised when the next() method of an iterator does not point to any object.\n",
        "* \n",
        "* 3 SystemExit: Raised by the sys.exit() function.\n",
        "* \n",
        "* 4 StandardError: Base class for all built-in exceptions except StopIteration and SystemExit.\n",
        "* \n",
        "* 5 ArithmeticError: Base class for all errors that occur for numeric calculation.\n",
        "* \n",
        "* 6 OverflowError: Raised when a calculation exceeds maximum limit for a numeric type.\n",
        "* \n",
        "* 7 FloatingPointError: Raised when a floating point calculation fails.\n",
        "* \n",
        "* 8 ZeroDivisionError: Raised when division or modulo by zero takes place for all numeric types.\n",
        "* \n",
        "* 9 AssertionError: Raised in case of failure of the Assert statement.\n",
        "* \n",
        "* 10 AttributeError: Raised in case of failure of attribute reference or assignment.\n",
        "* \n",
        "* 11 EOFError: Raised when there is no input from either the raw_input() or input() function and the end of file is reached.\n",
        "* \n",
        "* 12 ImportError: Raised when an import statement fails.\n",
        "* \n",
        "* 13 KeyboardInterrupt: Raised when the user interrupts program execution, usually by pressing Ctrl+c.\n",
        "* \n",
        "* 14 LookupError: Base class for all lookup errors.\n",
        "* \n",
        "* 15 IndexError: Raised when an index is not found in a sequence.\n",
        "* \n",
        "* 16 KeyError: Raised when the specified key is not found in the dictionary.\n",
        "* \n",
        "* 17 NameError: Raised when an identifier is not found in the local or global namespace.\n",
        "* \n",
        "* 18 UnboundLocalError: Raised when trying to access a local variable in a function or method but no value has been assigned to it.\n",
        "* \n",
        "* 19 EnvironmentError: Base class for all exceptions that occur outside the Python environment.\n",
        "* \n",
        "* 20 IOError: Raised when an input/ output operation fails, such as the print statement or the open() function when trying to open a file that does not exist.\n",
        "\n",
        "* 21 IOError: Raised for operating system-related errors.\n",
        "* \n",
        "* 22 SyntaxError: Raised when there is an error in Python syntax.\n",
        "* \n",
        "* 23 IndentationError: Raised when indentation is not specified properly.\n",
        "* \n",
        "* 24 SystemError: Raised when the interpreter finds an internal problem, but when this error is encountered the Python interpreter does not exit.\n",
        "* \n",
        "* 25 SystemExit: Raised when Python interpreter is quit by using the sys.exit() function. If not handled in the code, causes the interpreter to exit.\n",
        "* \n",
        "* 26 TypeError: Raised when an operation or function is attempted that is invalid for the specified data type.\n",
        "* \n",
        "* 27 ValueError: Raised when the built-in function for a data type has the valid type of arguments, but the arguments have invalid values specified.\n",
        "* \n",
        "* 28 RuntimeError: Raised when a generated error does not fall into any category.\n",
        "* \n",
        "* 29 NotImplementedError: Raised when an abstract method that needs to be implemented in an inherited class is not actually implemented."
      ]
    },
    {
      "cell_type": "markdown",
      "metadata": {
        "id": "XRgp0d_AatW-"
      },
      "source": [
        "**Assertions:**\n",
        "An assertion is a sanity-check that you can turn on or turn off when you are done with your testing of the program."
      ]
    },
    {
      "cell_type": "code",
      "metadata": {
        "id": "IEe9-UZiotI5",
        "colab": {
          "base_uri": "https://localhost:8080/"
        },
        "outputId": "a42db59e-246a-4c8e-abf1-dce08e9c02e0"
      },
      "source": [
        "a =10\n",
        "b = 0\n",
        "#stack \n",
        "try:\n",
        "  c =10\n",
        "  print(a/b)\n",
        "except Exception as e :\n",
        "  print(e)\n",
        "  \n",
        "\n",
        "else:\n",
        "  print(\"else\")\n",
        "finally:\n",
        "  print(\"finally\")\n",
        "print(\"end of program\",c)"
      ],
      "execution_count": null,
      "outputs": [
        {
          "output_type": "stream",
          "text": [
            "division by zero\n",
            "finally\n",
            "end of program 10\n"
          ],
          "name": "stdout"
        }
      ]
    },
    {
      "cell_type": "code",
      "metadata": {
        "id": "kSgSp6Y4mtQg"
      },
      "source": [
        ";def test(s1):\n",
        "  return \"hi \"+s1"
      ],
      "execution_count": null,
      "outputs": []
    },
    {
      "cell_type": "code",
      "metadata": {
        "colab": {
          "base_uri": "https://localhost:8080/",
          "height": 316
        },
        "id": "HnOeiGbwm3pf",
        "outputId": "e48926d6-0728-45b8-8071-f9668faeb3c4"
      },
      "source": [
        "def testing_test():\n",
        "  assert \"hello sachin\" == test(\"sachin\"), \"error\"\n",
        "  print(\"all passed\")\n",
        "\n",
        "testing_test()"
      ],
      "execution_count": null,
      "outputs": [
        {
          "output_type": "error",
          "ename": "AssertionError",
          "evalue": "ignored",
          "traceback": [
            "\u001b[0;31m---------------------------------------------------------------------------\u001b[0m",
            "\u001b[0;31mAssertionError\u001b[0m                            Traceback (most recent call last)",
            "\u001b[0;32m<ipython-input-27-c5d05138de14>\u001b[0m in \u001b[0;36m<module>\u001b[0;34m()\u001b[0m\n\u001b[1;32m      3\u001b[0m   \u001b[0mprint\u001b[0m\u001b[0;34m(\u001b[0m\u001b[0;34m\"all passed\"\u001b[0m\u001b[0;34m)\u001b[0m\u001b[0;34m\u001b[0m\u001b[0;34m\u001b[0m\u001b[0m\n\u001b[1;32m      4\u001b[0m \u001b[0;34m\u001b[0m\u001b[0m\n\u001b[0;32m----> 5\u001b[0;31m \u001b[0mtesting_test\u001b[0m\u001b[0;34m(\u001b[0m\u001b[0;34m)\u001b[0m\u001b[0;34m\u001b[0m\u001b[0;34m\u001b[0m\u001b[0m\n\u001b[0m",
            "\u001b[0;32m<ipython-input-27-c5d05138de14>\u001b[0m in \u001b[0;36mtesting_test\u001b[0;34m()\u001b[0m\n\u001b[1;32m      1\u001b[0m \u001b[0;32mdef\u001b[0m \u001b[0mtesting_test\u001b[0m\u001b[0;34m(\u001b[0m\u001b[0;34m)\u001b[0m\u001b[0;34m:\u001b[0m\u001b[0;34m\u001b[0m\u001b[0;34m\u001b[0m\u001b[0m\n\u001b[0;32m----> 2\u001b[0;31m   \u001b[0;32massert\u001b[0m \u001b[0;34m\"hello sachin\"\u001b[0m \u001b[0;34m==\u001b[0m \u001b[0mtest\u001b[0m\u001b[0;34m(\u001b[0m\u001b[0;34m\"sachin\"\u001b[0m\u001b[0;34m)\u001b[0m\u001b[0;34m,\u001b[0m \u001b[0;34m\"error\"\u001b[0m\u001b[0;34m\u001b[0m\u001b[0;34m\u001b[0m\u001b[0m\n\u001b[0m\u001b[1;32m      3\u001b[0m   \u001b[0mprint\u001b[0m\u001b[0;34m(\u001b[0m\u001b[0;34m\"all passed\"\u001b[0m\u001b[0;34m)\u001b[0m\u001b[0;34m\u001b[0m\u001b[0;34m\u001b[0m\u001b[0m\n\u001b[1;32m      4\u001b[0m \u001b[0;34m\u001b[0m\u001b[0m\n\u001b[1;32m      5\u001b[0m \u001b[0mtesting_test\u001b[0m\u001b[0;34m(\u001b[0m\u001b[0;34m)\u001b[0m\u001b[0;34m\u001b[0m\u001b[0;34m\u001b[0m\u001b[0m\n",
            "\u001b[0;31mAssertionError\u001b[0m: error"
          ]
        }
      ]
    },
    {
      "cell_type": "code",
      "metadata": {
        "id": "XoBSjoQkkHGi",
        "colab": {
          "base_uri": "https://localhost:8080/",
          "height": 163
        },
        "outputId": "4e4c583b-488d-4057-fa02-022b15751005"
      },
      "source": [
        "assert a==b ,\"not equal\""
      ],
      "execution_count": null,
      "outputs": [
        {
          "output_type": "error",
          "ename": "AssertionError",
          "evalue": "ignored",
          "traceback": [
            "\u001b[0;31m---------------------------------------------------------------------------\u001b[0m",
            "\u001b[0;31mAssertionError\u001b[0m                            Traceback (most recent call last)",
            "\u001b[0;32m<ipython-input-9-d027f84fca72>\u001b[0m in \u001b[0;36m<module>\u001b[0;34m()\u001b[0m\n\u001b[0;32m----> 1\u001b[0;31m \u001b[0;32massert\u001b[0m \u001b[0ma\u001b[0m\u001b[0;34m==\u001b[0m\u001b[0mb\u001b[0m \u001b[0;34m,\u001b[0m\u001b[0;34m\"not equal\"\u001b[0m\u001b[0;34m\u001b[0m\u001b[0;34m\u001b[0m\u001b[0m\n\u001b[0m",
            "\u001b[0;31mAssertionError\u001b[0m: not equal"
          ]
        }
      ]
    },
    {
      "cell_type": "markdown",
      "metadata": {
        "id": "bD86MQhBw3ke"
      },
      "source": [
        "**Files operations**\n",
        "<br>Files are named locations on disk to store related information. They are used to permanently store data in a non-volatile memory (e.g. hard disk).\n",
        "\n",
        "<br>Since Random Access Memory (RAM) is volatile (which loses its data when the computer is turned off), we use files for future use of the data by permanently storing them.\n",
        "\n",
        "<br>When we want to read from or write to a file, we need to open it first. When we are done, it needs to be closed so that the resources that are tied with the file are freed.\n",
        "\n",
        "<br>Hence, in Python, a file operation takes place in the following order:\n",
        "\n",
        "* Open a file\n",
        "* Read or write (perform operation)\n",
        "* Close\n"
      ]
    },
    {
      "cell_type": "markdown",
      "metadata": {
        "id": "WdGdajmyxk0z"
      },
      "source": [
        "**Opening Files**\n",
        "<br>Python has a built-in open() function to open a file. This function returns \n",
        "* a file object, also called a handle, as it is used to read or modify the file accordingly.\n",
        "* r\tOpens a file for reading. (default)\n",
        "* w\tOpens a file for writing. Creates a new file if it does not exist or truncates the file if it exists.\n",
        "* x\tOpens a file for exclusive creation. If the file already exists, the operation fails.\n",
        "* a\tOpens a file for appending at the end of the file without truncating it. Creates a new file if it does not exist.\n",
        "* t\tOpens in text mode. (default)\n",
        "* b\tOpens in binary mode.\n",
        "* \\+\tOpens a file for updating (reading and writing"
      ]
    },
    {
      "cell_type": "code",
      "metadata": {
        "id": "evnkq6h7ymN4"
      },
      "source": [
        "f = open(\"test.txt\")      # equivalent to 'r' or 'rt'\n",
        "f = open(\"test.txt\",'w')  # write in text mode\n",
        "f = open(\"img.bmp\",'r+b', encoding='utf-8') # read and write in binary mode"
      ],
      "execution_count": null,
      "outputs": []
    },
    {
      "cell_type": "markdown",
      "metadata": {
        "id": "7Qu4W-X80ML0"
      },
      "source": [
        "**Writing to Files** \n",
        "<br>In order to write into a file in Python, we need to open it in write w, append a or exclusive creation x mode.\n",
        "\n",
        "<br>We need to be careful with the w mode, as it will overwrite into the file if it already exists. Due to this, all the previous data are erased.\n",
        "\n",
        "<br>Writing a string or sequence of bytes (for binary files) is done using the write() method. This method returns the number of characters written to the file."
      ]
    },
    {
      "cell_type": "code",
      "metadata": {
        "id": "0i-Bc6Fro7ay",
        "colab": {
          "base_uri": "https://localhost:8080/",
          "height": 129
        },
        "outputId": "4305f58b-bd95-40dc-84f4-7376a86539ec"
      },
      "source": [
        "try:\n",
        "  with open(\"test.txt\",'w',encoding = 'utf-8') as f:\n",
        "    f.write(\"my first file\\n\")\n",
        "    f.write(\"This file\\n\\n\")\n",
        "    f.write(\"contains three lines\\n\")\n",
        "except :\n",
        "  print(\"error in reading\")\n",
        "finally:\n",
        "  f.close()"
      ],
      "execution_count": null,
      "outputs": [
        {
          "output_type": "error",
          "ename": "SyntaxError",
          "evalue": "ignored",
          "traceback": [
            "\u001b[0;36m  File \u001b[0;32m\"<ipython-input-1-f57506d2faee>\"\u001b[0;36m, line \u001b[0;32m6\u001b[0m\n\u001b[0;31m    ex\u001b[0m\n\u001b[0m     ^\u001b[0m\n\u001b[0;31mSyntaxError\u001b[0m\u001b[0;31m:\u001b[0m invalid syntax\n"
          ]
        }
      ]
    },
    {
      "cell_type": "markdown",
      "metadata": {
        "id": "z8VAYBCW0bbT"
      },
      "source": [
        "**Reading Files** <br>\n",
        "To read a file in Python, we must open the file in reading r mode.\n",
        "\n",
        "<br>There are various methods available for this purpose. We can use the read(size) method to read in the size number of data. If the size parameter is not specified, it reads and returns up to the end of the file.\n",
        "\n",
        "<br>We can read the text.txt file we wrote in the above section in the following way:"
      ]
    },
    {
      "cell_type": "code",
      "metadata": {
        "id": "ln226pU-0qgN"
      },
      "source": [
        "# f = open(\"test.txt\",'r',encoding = 'utf-8')\n",
        "# f.read(4)    # read the first 4 data\n",
        "# # b"
      ],
      "execution_count": null,
      "outputs": []
    },
    {
      "cell_type": "markdown",
      "metadata": {
        "id": "ROYY5v31ExGt"
      },
      "source": [
        "We can change our current file cursor (position) using the **seek()** method. Similarly, the **tell()** method returns our current position (in number of bytes)."
      ]
    },
    {
      "cell_type": "code",
      "metadata": {
        "id": "7bBiDP7EEvHk"
      },
      "source": [
        "# f.tell()\n",
        "# f.seek(0)"
      ],
      "execution_count": null,
      "outputs": []
    },
    {
      "cell_type": "markdown",
      "metadata": {
        "id": "ZGc3YXF6Euz_"
      },
      "source": [
        "We can read a file line-by-line using a for loop. This is both efficient and fast."
      ]
    },
    {
      "cell_type": "code",
      "metadata": {
        "id": "33y4VxjnFFf2"
      },
      "source": [
        "for line in f:\n",
        "  print(line, end = '')"
      ],
      "execution_count": null,
      "outputs": []
    },
    {
      "cell_type": "markdown",
      "metadata": {
        "id": "dXlY12yqFQAl"
      },
      "source": [
        "we can use the **readline()** method to read individual lines of a file. This method reads a file till the newline, including the newline character."
      ]
    },
    {
      "cell_type": "markdown",
      "metadata": {
        "id": "xOKQMQ6YGG7W"
      },
      "source": [
        "**List of methods in text mode with a brief description**\n",
        "*  1 close()\tCloses an opened file. It has no effect if the file is already closed.\n",
        "*  2 detach()\tSeparates the underlying binary buffer from the TextIOBase and returns it.\n",
        "*  3 fileno()\tReturns an integer number (file descriptor) of the file.\n",
        "*  4 flush()\tFlushes the write buffer of the file stream.\n",
        "*  5 isatty()\tReturns True if the file stream is interactive.\n",
        "*  6 read(n)\tReads at most n characters from the file. Reads till end of file if it is negative or None.\n",
        "*  7 readable()\tReturns True if the file stream can be read from.\n",
        "*  8 readline(n=-1)\tReads and returns one line from the file. Reads in at most n bytes if specified.\n",
        "*  9 readlines(n=-1)\tReads and returns a list of lines from the file. Reads in at most n bytes/characters if specified.\n",
        "*  10 seek(offset,from=SEEK_SET)\tChanges the file position to offset bytes, in reference to from (start, current, end).\n",
        "*  11 seekable()\tReturns True if the file stream supports random access.\n",
        "*  12 tell()\tReturns the current file location.\n",
        "*  13 truncate(size=None)\tResizes the file stream to size bytes. If size is not specified, resizes to current location.\n",
        "*  14 writable()\tReturns True if the file stream can be written to.\n",
        "*  15 write(s)\tWrites the string s to the file and returns the number of characters written.\n",
        "*  16 writelines(lines)\tWrites a list of lines to the file."
      ]
    },
    {
      "cell_type": "markdown",
      "metadata": {
        "id": "rKF5PogUIr5d"
      },
      "source": [
        "**Map, Filter, Reduce**<br>\n",
        "Map, Filter, and Reduce are paradigms of functional programming. They allow the programmer (you) to write simpler, shorter code, without neccessarily needing to bother about intricacies like loops and branching.\n",
        "<br>\n"
      ]
    },
    {
      "cell_type": "markdown",
      "metadata": {
        "id": "hEHfqyMAKpkW"
      },
      "source": [
        "**Map:** <br>\n",
        "The map() function is a type of higher-order. As mentioned earlier, this function takes another function as a parameter along with a sequence of iterables and returns an output after applying the function to each iterable present in the sequence. Its syntax is as follows\\:<br>\n",
        "\n",
        "***map\\(function, iterables\\) *** "
      ]
    },
    {
      "cell_type": "code",
      "metadata": {
        "colab": {
          "base_uri": "https://localhost:8080/"
        },
        "id": "KlV1FM9uL3Zr",
        "outputId": "71071bbc-7029-4b53-f50e-65a698b5068c"
      },
      "source": [
        "def newfunc(a):\n",
        "    return a*a\n",
        "x = map(newfunc, (1,2,3,4))  #x is the map object\n",
        "print(x)\n",
        "print(list(x))"
      ],
      "execution_count": null,
      "outputs": [
        {
          "output_type": "stream",
          "text": [
            "<map object at 0x7fa51983dc88>\n",
            "[1, 4, 9, 16]\n"
          ],
          "name": "stdout"
        }
      ]
    },
    {
      "cell_type": "code",
      "metadata": {
        "colab": {
          "base_uri": "https://localhost:8080/"
        },
        "id": "YOspv6aUJjyg",
        "outputId": "a8c424f2-629a-490c-95d5-95244915fca0"
      },
      "source": [
        "def newfunc(a):\n",
        "  print(a)\n",
        "  return a[0]*a[1]\n",
        "x = map(newfunc, zip((1,2,3,4),(10,22,33,44)))  #x is the map object\n",
        "print(x)\n",
        "print(list(x))"
      ],
      "execution_count": null,
      "outputs": [
        {
          "output_type": "stream",
          "text": [
            "<map object at 0x7fa51983d748>\n",
            "(1, 10)\n",
            "(2, 22)\n",
            "(3, 33)\n",
            "(4, 44)\n",
            "[10, 44, 99, 176]\n"
          ],
          "name": "stdout"
        }
      ]
    },
    {
      "cell_type": "markdown",
      "metadata": {
        "id": "PQ4o0_oKMMbl"
      },
      "source": [
        "**Lambda Functions**\n",
        "<br>\n",
        "Python Lambda functions are functions that do not have any name. They are also known as **anonymous or nameless functions**. The word ‘lambda’ is not a name, but its a keyword. This keyword specifies that the function that follows is anonymous.\n",
        "<br>\n",
        "**lambda a1: “Specify the use of a1“**\n",
        "Here, lambda is taking one input which is a1.\n",
        "\n",
        "Similarly, you can have lambda a1, a2, a3..an."
      ]
    },
    {
      "cell_type": "code",
      "metadata": {
        "colab": {
          "base_uri": "https://localhost:8080/"
        },
        "id": "sZzzhmvUJo2R",
        "outputId": "9cc20f7d-e2e5-4d66-ea67-2a6b9ebc62b5"
      },
      "source": [
        "\n",
        "val = lambda x: x*x\n",
        "print(val(3))"
      ],
      "execution_count": null,
      "outputs": [
        {
          "output_type": "stream",
          "text": [
            "9\n"
          ],
          "name": "stdout"
        }
      ]
    },
    {
      "cell_type": "markdown",
      "metadata": {
        "id": "Pj3FrtXtREXO"
      },
      "source": [
        "**The filter() function:**<br>\n",
        "The filter() function is used to create an output list consisting of values for which the function returns true. The syntax of it is as follows:\n",
        "<br> **filter(function, iterables)**"
      ]
    },
    {
      "cell_type": "code",
      "metadata": {
        "colab": {
          "base_uri": "https://localhost:8080/"
        },
        "id": "cLnCxAfGRyFh",
        "outputId": "ffa22d50-67cd-4928-be7e-77ec9fa8d97d"
      },
      "source": [
        "y = filter(lambda x: (x>=3), (1,2,3,4))\n",
        "print(list(y))"
      ],
      "execution_count": null,
      "outputs": [
        {
          "output_type": "stream",
          "text": [
            "[3, 4]\n"
          ],
          "name": "stdout"
        }
      ]
    },
    {
      "cell_type": "markdown",
      "metadata": {
        "id": "prwu7fPNSE8o"
      },
      "source": [
        "**The reduce() function:**<br>\n",
        "The reduce() function, as the name describes, applies a given function to the iterables and returns a single value.<br>\n",
        "**reduce(function, iterables)**"
      ]
    },
    {
      "cell_type": "code",
      "metadata": {
        "colab": {
          "base_uri": "https://localhost:8080/"
        },
        "id": "nre6nExzSYnX",
        "outputId": "9e3f8e90-e3c9-47df-b32b-a0e09af64402"
      },
      "source": [
        "from functools import reduce\n",
        "reduce(lambda a,b: a+b,[23,21,45,98])"
      ],
      "execution_count": null,
      "outputs": [
        {
          "output_type": "execute_result",
          "data": {
            "text/plain": [
              "187"
            ]
          },
          "metadata": {
            "tags": []
          },
          "execution_count": 16
        }
      ]
    },
    {
      "cell_type": "code",
      "metadata": {
        "colab": {
          "base_uri": "https://localhost:8080/"
        },
        "id": "XiWtS21YTu2f",
        "outputId": "628e9ea4-b72c-4e2d-e945-cfb34d5b5cf2"
      },
      "source": [
        "reduce(lambda a,b: a+b,[23,21,45,98])"
      ],
      "execution_count": null,
      "outputs": [
        {
          "output_type": "execute_result",
          "data": {
            "text/plain": [
              "187"
            ]
          },
          "metadata": {
            "tags": []
          },
          "execution_count": 34
        }
      ]
    },
    {
      "cell_type": "code",
      "metadata": {
        "colab": {
          "base_uri": "https://localhost:8080/"
        },
        "id": "GBywzqA2ShIg",
        "outputId": "158c5084-76d2-44e2-c78f-ff247533d762"
      },
      "source": [
        "# Using filter() within map():\n",
        "c = map(lambda x:x+x,filter(lambda x: (x>=3), (1,2,3,4)))\n",
        "print(list(c))"
      ],
      "execution_count": null,
      "outputs": [
        {
          "output_type": "stream",
          "text": [
            "[6, 8]\n"
          ],
          "name": "stdout"
        }
      ]
    },
    {
      "cell_type": "code",
      "metadata": {
        "colab": {
          "base_uri": "https://localhost:8080/"
        },
        "id": "OgT-WH-LSqhX",
        "outputId": "edcbfa2e-b165-495a-a457-ed3aabf625fc"
      },
      "source": [
        "# Using map() within filter():\n",
        "c = filter(lambda x: (x>=3),map(lambda x:x+x, (1,2,3,4)))  #lambda x: (x>=3)\n",
        "print(list(c))"
      ],
      "execution_count": null,
      "outputs": [
        {
          "output_type": "stream",
          "text": [
            "[4, 6, 8]\n"
          ],
          "name": "stdout"
        }
      ]
    },
    {
      "cell_type": "code",
      "metadata": {
        "colab": {
          "base_uri": "https://localhost:8080/"
        },
        "id": "6zDcQv7XSxQF",
        "outputId": "e5e346ff-fbfd-4c49-c38d-c91d68bde81c"
      },
      "source": [
        "# Using map() and filter() within reduce():\n",
        "d = reduce(lambda x,y: x+y,map(lambda x:x+x,filter(lambda x: (x>=3), (1,2,3,4)))) \n",
        "print(d)\n"
      ],
      "execution_count": null,
      "outputs": [
        {
          "output_type": "stream",
          "text": [
            "14\n"
          ],
          "name": "stdout"
        }
      ]
    },
    {
      "cell_type": "code",
      "metadata": {
        "colab": {
          "base_uri": "https://localhost:8080/"
        },
        "id": "gLyeycHKS8Uv",
        "outputId": "7fabbcd7-07ea-4cc7-be83-72f28bd2d05b"
      },
      "source": [
        "import  functools\n",
        "help(functools.reduce)"
      ],
      "execution_count": null,
      "outputs": [
        {
          "output_type": "stream",
          "text": [
            "Help on built-in function reduce in module _functools:\n",
            "\n",
            "reduce(...)\n",
            "    reduce(function, sequence[, initial]) -> value\n",
            "    \n",
            "    Apply a function of two arguments cumulatively to the items of a sequence,\n",
            "    from left to right, so as to reduce the sequence to a single value.\n",
            "    For example, reduce(lambda x, y: x+y, [1, 2, 3, 4, 5]) calculates\n",
            "    ((((1+2)+3)+4)+5).  If initial is present, it is placed before the items\n",
            "    of the sequence in the calculation, and serves as a default when the\n",
            "    sequence is empty.\n",
            "\n"
          ],
          "name": "stdout"
        }
      ]
    }
  ]
}