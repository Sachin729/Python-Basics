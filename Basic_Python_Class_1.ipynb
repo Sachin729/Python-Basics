{
  "nbformat": 4,
  "nbformat_minor": 0,
  "metadata": {
    "colab": {
      "name": "Basic Python Class 1.ipynb",
      "provenance": [],
      "collapsed_sections": [],
      "authorship_tag": "ABX9TyPKNzA+hu8Zp73tjs+nBqsJ",
      "include_colab_link": true
    },
    "kernelspec": {
      "name": "python3",
      "display_name": "Python 3"
    }
  },
  "cells": [
    {
      "cell_type": "markdown",
      "metadata": {
        "id": "view-in-github",
        "colab_type": "text"
      },
      "source": [
        "<a href=\"https://colab.research.google.com/github/Sachin729/Python-Basics/blob/main/Basic_Python_Class_1.ipynb\" target=\"_parent\"><img src=\"https://colab.research.google.com/assets/colab-badge.svg\" alt=\"Open In Colab\"/></a>"
      ]
    },
    {
      "cell_type": "markdown",
      "metadata": {
        "id": "KxJkAHebe9Dg"
      },
      "source": [
        "\n",
        "\n",
        " \n",
        "## **Introduction to Python**\n",
        "*   Variables,Standard Data Types\n",
        "*   Comments, Types of  comments\n",
        "*   Conditional Statements\n",
        "*   Loops\n",
        "*   Operands and Expressions\n",
        "\n",
        "\n",
        "\n",
        "\n",
        "\n",
        "\n"
      ]
    },
    {
      "cell_type": "markdown",
      "metadata": {
        "id": "oUFqai5Phj3v"
      },
      "source": [
        "**Variables:**Variables are nothing but reserved memory locations to store values. This means that when you create a variable you reserve some space in memory.\n",
        "\n",
        "\n",
        "*   Assigning Values to Variables\n",
        "*   Multiple Assignment\n",
        "\n"
      ]
    },
    {
      "cell_type": "markdown",
      "metadata": {
        "id": "HSF2aMSJ2kM_"
      },
      "source": [
        "**Conditional Statements** :The if condition is considered the simplest of the three and makes a decision based on whether the condition is true or not. If the condition is true, it prints out the indented expression. If the condition is false, it skips printing the indented expression.\n",
        "\n",
        "If statement: \n",
        "Syntax: if contition :\n",
        "            Body of it \n",
        "        else:\n",
        "            next "
      ]
    },
    {
      "cell_type": "markdown",
      "metadata": {
        "id": "mK5KGR3u9RHS"
      },
      "source": [
        "**Loops:**Loop continues until we reach the last item in the sequence or itterate till condition fails. The body of for loop is separated from the rest of the code using indentation.\n",
        "<br>\n",
        "\n",
        "* While loop :we can execute a set of statements as long as a condition is true.\n",
        "* For loop : A for loop is used for iterating over a sequence (that is either a list, a tuple, a dictionary, a set, or a string).\n",
        "\n",
        "\n",
        "> * Range() Function\n",
        "\n",
        "\n",
        "> * Continue Statement\n",
        "\n",
        "\n",
        "> * Break Statement\n",
        "\n",
        "\n",
        "\n",
        "\n",
        "\n",
        "\n",
        "\n",
        "\n",
        "\n",
        "\n"
      ]
    },
    {
      "cell_type": "markdown",
      "metadata": {
        "id": "eho6bvyde7kE"
      },
      "source": [
        "**Standard Data Types** :The data stored in memory can be of many types.\n",
        "1. Numbers  \n",
        "2.String\n",
        "3.List\n",
        "4.Tuple\n",
        "5.Dictionary\n",
        "\n"
      ]
    },
    {
      "cell_type": "markdown",
      "metadata": {
        "id": "3lgfZsLDjD6E"
      },
      "source": [
        "**Numbers**:Number data types store numeric values. Number objects are created when you assign a value to them. \n",
        "*   int (signed integers)\n",
        "*   long (long integers, they can also be represented in octal and hexadecimal)\n",
        "*   float (floating point real values)\n",
        "*   complex (complex numbers)\n",
        "\n",
        "\n"
      ]
    },
    {
      "cell_type": "markdown",
      "metadata": {
        "id": "yRSAZQe6jmL5"
      },
      "source": [
        "**Strings:** Strings in Python are identified as a contiguous set of characters represented in the quotation marks.\n",
        "String literals in python are surrounded by either single quotation marks, or double quotation marks or thripple quotation.\n",
        "\n",
        "\n",
        "\n",
        ">  * 1  capitalize( ):\tConverts the first character to upper case\n",
        " * 2  casefold( ):\tConverts string into lower case\n",
        " * 3  center( ):\tReturns a centered string\n",
        " * 4  count( ):\tReturns the number of times a specified value occurs in a string\n",
        " * 5  encode( ):\tReturns an encoded version of the string\n",
        " * 6  endswith( ):\tReturns true if the string ends with the specified value\n",
        " * 7  expandtabs( ):\tSets the tab size of the string\n",
        " * 8  find( ):\tSearches the string for a specified value and returns the position of where it was found\n",
        " * 9  format( ):\tFormats specified values in a string\n",
        " * 10 format_map( ):\tFormats specified values in a string\n",
        " * 11 index( ):\tSearches the string for a specified value and returns the position of where it was found\n",
        " * 12 isalnum( ):\tReturns True if all characters in the string are alphanumeric\n",
        " * 13 isalpha( ):\tReturns True if all characters in the string are in the alphabet\n",
        " * 14 isdecimal( ):\tReturns True if all characters in the string are decimals\n",
        " * 15 isdigit( ):\tReturns True if all characters in the string are digits\n",
        " * 16 isidentifier( ):\tReturns True if the string is an identifier\n",
        " * 17 islower( ):\tReturns True if all characters in the string are lower case\n",
        " * 18 isnumeric( ):\tReturns True if all characters in the string are numeric\n",
        " * 19 isprintable( ):\tReturns True if all characters in the string are printable\n",
        " * 20 isspace( ):\tReturns True if all characters in the string are whitespaces\n",
        " * 21 istitle( ):\tReturns True if the string follows the rules of a title\n",
        " * 22 isupper( ):\tReturns True if all characters in the string are upper case\n",
        " * 23 join( ):\tJoins the elements of an iterable to the end of the string\n",
        " * 24 ljust( ):\tReturns a left justified version of the string\n",
        " * 25 lower( ):\tConverts a string into lower case\n",
        " * 26 lstrip( ):\tReturns a left trim version of the string\n",
        " * 27 maketrans( ):\tReturns a translation table to be used in translations\n",
        " * 28 partition( ):\tReturns a tuple where the string is parted into three parts\n",
        " * 29 replace( ):\tReturns a string where a specified value is replaced with a specified value\n",
        " * 30 rfind( ):\tSearches the string for a specified value and returns the last position of where it was found\n",
        " * 31 rindex( ):\tSearches the string for a specified value and returns the last position of where it was found\n",
        " * 32 rjust( ):\tReturns a right justified version of the string\n",
        " * 33 rpartition( ):\tReturns a tuple where the string is parted into three parts\n",
        " * 34 rsplit( ):\tSplits the string at the specified separator, and returns a list\n",
        " * 35 rstrip( ):\tReturns a right trim version of the string\n",
        " * 36 split( ):\tSplits the string at the specified separator, and returns a list\n",
        " * 37 splitlines( ):\tSplits the string at line breaks and returns a list\n",
        " * 38 startswith( ):\tReturns true if the string starts with the specified value\n",
        " * 39 strip( ):\tReturns a trimmed version of the string\n",
        " * 40 swapcase( ):\tSwaps cases, lower case becomes upper case and vice versa\n",
        " * 41 title( ):\tConverts the first character of each word to upper case\n",
        " * 42 translate( ):\tReturns a translated string\n",
        " * 43 upper( ):\tConverts a string into upper case\n",
        " * 44 zfill( ):\tFills the string with a specified number of 0 values at the beginning\n",
        "\n",
        "\n",
        "---\n",
        "\n",
        "\n",
        "\n"
      ]
    },
    {
      "cell_type": "markdown",
      "metadata": {
        "id": "Lu01KcogD33J"
      },
      "source": [
        "**Lists**:Lists are the most versatile of Python's compound data types. A list contains items separated by commas and enclosed within square brackets '[ ]. To some extent, lists are similar to arrays in C. One difference between them is that all the items belonging to a list can be of different data type.\n",
        "\n",
        "Python has a set of built-in methods that you can use on lists:\n",
        "\n",
        " *  1  append(  ):\tAdds an element at the end of the list\n",
        " *  2  clear(  ):\tRemoves all the elements from the list\n",
        " *  3  copy(  ):\tReturns a copy of the list\n",
        " *  4  count(  ):\tReturns the number of elements with the specified value\n",
        " *  5  extend(  ):\tAdd the elements of a list (or any iterable), to the end of the current list\n",
        " *  6  index(  ):\tReturns the index of the first element with the specified value\n",
        " *  7  insert(  ):\tAdds an element at the specified position\n",
        " *  8  pop(  ):\tRemoves the element at the specified position\n",
        " *  9  remove(  ):\tRemoves the first item with the specified value\n",
        " *  10 reverse(  ):\tReverses the order of the list\n",
        " *  11 sort(  ):\tSorts the list\n",
        "\n"
      ]
    },
    {
      "cell_type": "markdown",
      "metadata": {
        "id": "DBQnEvqaFHQ2"
      },
      "source": [
        "---\n",
        "**Tuples**: A tuple is another sequence data type that is similar to the list. A tuple consists of a number of values separated by commas.enclosed within square brackets '( )'.\n",
        "A tuple is a collection which is ordered and unchangeable or immutable as it also is called.\n",
        "\n",
        "\n",
        "\n",
        "1\t**Type:** List is mutable.\tTuple is immutable.\n",
        "<br>\n",
        "2\t**Iteration:**\tList iteration is slower and is time consuming.\tTuple iteration is faster.<br>\n",
        "3\t**Appropriate:** for\tList is useful for insertion and deletion operations.\tTuple is useful for readonly operations like accessing elements.<br>\n",
        "4\t**Memory Consumption:**\tList consumes more memory.\tTuples consumes less memory.<br>\n",
        "5\t**Methods:**\tList provides many in-built methods.\tTuples have less in-built methods.<br>\n",
        "6 **Error prone:**\tList operations are more error prone.\tTuples operations are safe.<br>\n",
        "---\n",
        "\n"
      ]
    },
    {
      "cell_type": "markdown",
      "metadata": {
        "id": "CLoBh0_AHCo1"
      },
      "source": [
        "**Dictionary** :Python's dictionaries are kind of Key value pair,Dictionaries are enclosed by curly braces ({ })\n",
        "\n",
        " * 1  clear(  ):\tRemoves all the elements from the dictionary\n",
        " * 2  copy(  ):\tReturns a copy of the dictionary\n",
        " * 3  fromkeys(  ):\tReturns a dictionary with the specified keys and value\n",
        " * 4  get(  ):\tReturns the value of the specified key\n",
        " * 5  items(  ):\tReturns a list containing a tuple for each key value pair\n",
        " * 6  keys(  ):\tReturns a list containing the dictionary's keys\n",
        " * 7  pop(  ):\tRemoves the element with the specified key\n",
        " * 8  popitem(  ):\tRemoves the last inserted key-value pair\n",
        " * 9  setdefault(  ):\tReturns the value of the specified key. If the key does not exist: insert the key, with the specified value\n",
        " * 10 update(  ):\tUpdates the dictionary with the specified key-value pairs\n",
        " * 11 values(  ):\tReturns a list of all the values in the dictionary"
      ]
    },
    {
      "cell_type": "markdown",
      "metadata": {
        "id": "FGnlp9eIIzFn"
      },
      "source": [
        "**Order of Operations**<BR>\n",
        "\n",
        "When an expression contains more than one operator, the order of evaluation\n",
        "depends on the order of operations. For mathematical operators, Python follows\n",
        "mathematical convention. The acronym PEMDAS is a useful way to remember the\n",
        "rules:\n",
        "* • Parentheses have the highest precedence and can be used to force an expression\n",
        "to evaluate in the order you want. Since expressions in parentheses are evaluated\n",
        "first, 2 * (3-1) is 4, and (1+1)**(5-2) is 8. You can also use parentheses to\n",
        "make an expression easier to read, as in (minute * 100) / 60, even if it doesn’t\n",
        "change the result.\n",
        "* • Exponentiation h\n",
        "as the next highest precedence, so 1 + 2\\*\\*3 is 9, not 27, and 2* 3**2 is 18, not 36.\n",
        "* • Multiplication and Division have higher precedence than Addition and Subtrac‐\n",
        "tion. So 2*3-1 is 5, not 4, and 6+4/2 is 8, not 5.\n",
        "* • Operators with the same precedence are evaluated from left to right (except\n",
        "exponentiation). So in the expression degrees / 2 * pi, the division happens\n",
        "first and the result is multiplied by pi. To divide by 2π, you can use parentheses\n",
        "or write degrees / 2 / pi."
      ]
    },
    {
      "cell_type": "markdown",
      "metadata": {
        "id": "jv9qb2rsJe1B"
      },
      "source": [
        "* variable: A name that refers to a value.\n",
        "* assignment:A statement that assigns a value to a variable.\n",
        "state diagram:A graphical representation of a set of variables and the values they refer to.\n",
        "* keyword: A reserved word that is used to parse a program; you cannot use keywords like\n",
        "if, def, and while as variable names.\n",
        "* operand:One of the values on which an operator operates.\n",
        "expression:A combination of variables, operators, and values that represents a single result.\n",
        "* evaluate:To simplify an expression by performing the operations in order to yield a single\n",
        "value.\n",
        "* statement:A section of code that represents a command or action. So far, the statements we\n",
        "have seen are assignments and print statements.\n",
        "* execute:To run a statement and do what it says.\n",
        "* interactive mode:A way of using the Python interpreter by typing code at the prompt\n",
        "script mode:\n",
        "* A way of using the Python interpreter to read code from a script and run it.\n",
        "script:\n",
        "A program stored in a file.\n",
        "* order of operations:\n",
        "Rules governing the order in which expressions involving multiple operators and\n",
        "operands are evaluated.\n",
        "* concatenate:\n",
        "To join two operands end-to-end.\n",
        "* comment:\n",
        "Information in a program that is meant for other programmers (or anyone read‐\n",
        "ing the source code) and has no effect on the execution of the program.\n",
        "syntax error:\n",
        "An error in a program that makes it impossible to parse (and therefore impossi‐\n",
        "ble to interpret).\n",
        "* exception:\n",
        "An error that is detected while the program is running.\n",
        "* semantics:\n",
        "The meaning of a program.\n",
        "* semantic error:\n",
        "An error in a program that makes it do something other than what the program‐\n",
        "mer intended.\n"
      ]
    },
    {
      "cell_type": "code",
      "metadata": {
        "id": "mkhqZSnDectm"
      },
      "source": [
        ""
      ],
      "execution_count": null,
      "outputs": []
    },
    {
      "cell_type": "markdown",
      "metadata": {
        "id": "odhHkUU2hj_y"
      },
      "source": [
        "**Input from Keyboard** : In Python, we use input() function to take input from the user. Whatever you enter as input, the input function converts it into a string. If you enter an integer value still input() function convert it into a string.\n",
        "<br>Syntax: **input**()\n",
        "\n",
        "\n",
        ")\n",
        "\n",
        "Parameter:\n",
        "\n",
        "Prompt: (optional) The string that is written to standard output(usually screen) without newline.\n",
        "Return: **String object**"
      ]
    },
    {
      "cell_type": "markdown",
      "metadata": {
        "id": "oc7_GqsflO5L"
      },
      "source": [
        "**Operands:**Operators are special symbols in Python that carry out arithmetic or logical computation. The value that the operator operates on is called the operand.\n",
        "\n",
        "Python language supports the following types of operators.\n",
        " \n",
        "*   Arithmetic Operators\n",
        "*  Comparison (Relational) Operators\n",
        "*   Assignment Operators\n",
        "*   Logical Operators\n",
        "*   Bitwise Operators\n",
        "*   Membership Operators\n",
        "*  Identity Operators\n",
        "\n",
        "\n",
        "\n",
        "\n",
        "\n",
        "\n",
        "\n",
        "\n",
        "\n",
        "\n"
      ]
    },
    {
      "cell_type": "markdown",
      "metadata": {
        "id": "wUzxVcaYjrCe"
      },
      "source": [
        "**Arithmetic Operators**\n",
        "+\tAdd two operands or unary plus\tx + y+ 2\n",
        "-\tSubtract right operand from the left or unary minus\tx - y- 2\n",
        "*\tMultiply two operands\tx * y\n",
        "/\tDivide left operand by the right one (always results into float)\tx / y\n",
        "%\tModulus - remainder of the division of left operand by the right\tx % y (remainder of x/y)\n",
        "//\tFloor division - division that results into whole number adjusted to the left in the number line\tx // y\n",
        "**\tExponent - left operand raised to the power of right\tx**y (x to the power y)"
      ]
    },
    {
      "cell_type": "code",
      "metadata": {
        "id": "FzjnO1bi1RAQ",
        "outputId": "329dda1a-0c5e-42d5-ce98-8ae459848421",
        "colab": {
          "base_uri": "https://localhost:8080/"
        }
      },
      "source": [
        ""
      ],
      "execution_count": null,
      "outputs": [
        {
          "output_type": "execute_result",
          "data": {
            "text/plain": [
              "4"
            ]
          },
          "metadata": {
            "tags": []
          },
          "execution_count": 42
        }
      ]
    },
    {
      "cell_type": "markdown",
      "metadata": {
        "id": "0OmmVrSej0xQ"
      },
      "source": [
        "**Comparison operators**Comparison operators are used to compare values. It returns either True or False according to the condition.\n",
        "\n",
        "Operator\tMeaning\tExample\n",
        ">\tGreater than - True if left operand is greater than the right\tx > y\n",
        "<\tLess than - True if left operand is less than the right\tx < y\n",
        "==\tEqual to - True if both operands are equal\tx == y\n",
        "!=\tNot equal to - True if operands are not equal\tx != y\n",
        ">=\tGreater than or equal to - True if left operand is greater than or equal to the right\tx >= y\n",
        "<=\tLess than or equal to - True if left operand is less than or equal to the right\tx <= y"
      ]
    },
    {
      "cell_type": "markdown",
      "metadata": {
        "id": "mBW448LfkGGs"
      },
      "source": [
        "**Logical operators** and\tTrue if both the operands are true\tx and y\n",
        "or\tTrue if either of the operands is true\tx or y\n",
        "not\tTrue if operand is false (complements the operand)\tnot x"
      ]
    },
    {
      "cell_type": "markdown",
      "metadata": {
        "id": "ckzUZNeUkYie"
      },
      "source": [
        "**Assignment operators**\n",
        "Assignment operators are used in Python to assign values to variables.\n",
        "\n",
        "a = 5 is a simple assignment operator that assigns the value 5 on the right to the variable a on the left.\n",
        "\n",
        "There are various compound operators in Python like a += 5 that adds to the variable and later assigns the same. It is equivalent to a = a + 5.\n",
        "\n",
        "x = 5\t\n",
        "x += 5\t             x = x + 5<br>\n",
        "x -= 5\tx = x - 5\n",
        "<br>x *= 5\tx = x * 5\n",
        "<br>x /= 5\tx = x / 5\n",
        "<br>x %= 5\tx = x % 5\n",
        "<br>x //= 5\tx = x // 5\n",
        "<br>x **= 5\tx = x ** 5\n",
        "<br>x &= 5\tx = x & 5\n",
        "<br>x |= 5\tx = x | 5\n",
        "<br>x ^= 5\tx = x ^ 5\n",
        "<br>x >>= 5\tx = x >> 5\n",
        "<br>x <<= 5\tx = x << 5\n"
      ]
    },
    {
      "cell_type": "markdown",
      "metadata": {
        "id": "e_FeW09jicSM"
      },
      "source": [
        "**Functions** :\n",
        "<br>A function is a block of organized, reusable code that is used to perform a single, related action. Functions provide better modularity for your application and a high degree of code reusing.\n",
        "<br>**Note:**A function is a block of code which only runs when it is called.\n",
        "<br>\n",
        "Defining a Function\n",
        "You can define functions to provide the required functionality. Here are simple rules to define a function in Python.\n",
        "\n",
        "Function blocks begin with the keyword **def** followed by the function name and parentheses ( ( ) ).\n",
        "\n",
        "Any input parameters or arguments should be placed within these parentheses. You can also define parameters inside these parentheses.\n",
        "\n",
        "The first statement of a function can be an optional statement - the documentation string of the function or docstring.\n",
        "\n",
        "The code block within every function starts with a colon (:) and is indented.\n",
        "\n",
        "The statement return [expression] exits a function, optionally passing back an expression to the caller. A return statement with no arguments is the same as return None.\n",
        "\n",
        "**Syntax**:\n",
        "<br>def functionname( parameters ):\n",
        "   <br>\"function_docstring\"\n",
        "   <br>function_suite\n",
        "   <br> return [expression]"
      ]
    },
    {
      "cell_type": "code",
      "metadata": {
        "id": "pXyxNGiDw1UB",
        "outputId": "176be673-da29-48cc-ca22-eb6f62a630d0",
        "colab": {
          "base_uri": "https://localhost:8080/"
        }
      },
      "source": [
        "def my_fucn():\n",
        "  var =1\n",
        "  print(\"hello world\",var)\n",
        "\n",
        "my_fucn()\n",
        "# print(var1)\n",
        "\n"
      ],
      "execution_count": null,
      "outputs": [
        {
          "output_type": "stream",
          "text": [
            "hello world 1\n"
          ],
          "name": "stdout"
        }
      ]
    },
    {
      "cell_type": "markdown",
      "metadata": {
        "id": "11UJZsCikJ35"
      },
      "source": [
        "**Scope and Lifetime of variables**<br>\n",
        "Scope of a variable is the portion of a program where the variable is recognized. Parameters and variables defined inside a function are not visible from outside the function. Hence, they have a local scope.\n",
        "\n",
        "The lifetime of a variable is the period throughout which the variable exits in the memory. The lifetime of variables inside a function is as long as the function executes.\n",
        "\n",
        "They are destroyed once we return from the function. Hence, a function does not remember the value of a variable from its previous calls.\n",
        "\n",
        "Here is an example to illustrate the scope of a variable inside a function."
      ]
    },
    {
      "cell_type": "code",
      "metadata": {
        "id": "QWT417qZkFRF",
        "outputId": "ba06914d-6e9b-4e61-9713-1aa8f39051a1",
        "colab": {
          "base_uri": "https://localhost:8080/"
        }
      },
      "source": [
        "def my_func():\n",
        "\tx = 10\n",
        "\tprint(\"Value inside function:\",x)\n",
        "\n",
        "x = 20\n",
        "my_func()\n",
        "print(\"Value outside function:\",x)"
      ],
      "execution_count": null,
      "outputs": [
        {
          "output_type": "stream",
          "text": [
            "Value inside function: 10\n",
            "Value outside function: 20\n"
          ],
          "name": "stdout"
        }
      ]
    },
    {
      "cell_type": "markdown",
      "metadata": {
        "id": "eRVBpfLmk8ME"
      },
      "source": [
        "**Types of Functions**<br>\n",
        "\n",
        "\n",
        "*    **Built-in functions** - Functions that are built into Python.\n",
        "*   **User-defined functions** - Functions defined by the users themselves.\n",
        "\n",
        "\n"
      ]
    },
    {
      "cell_type": "markdown",
      "metadata": {
        "id": "OFqwr9S9l7p5"
      },
      "source": [
        "   * 1    abs()\tReturns the absolute value of a number\n",
        "   * 2    all()\tReturns True if all items in an iterable object are true\n",
        "   * 3    any()\tReturns True if any item in an iterable object is true\n",
        "   * 4    ascii()\tReturns a readable version of an object. Replaces none-ascii characters with escape character\n",
        "   * 5    bin()\tReturns the binary version of a number\n",
        "   * 6    bool()\tReturns the boolean value of the specified object\n",
        "   * 7    bytearray()\tReturns an array of bytes\n",
        "   * 8    bytes()\tReturns a bytes object\n",
        "   * 9    callable()\tReturns True if the specified object is callable, otherwise False\n",
        "   * 10   chr()\tReturns a character from the specified Unicode code.\n",
        "   * 11   classmethod()\tConverts a method into a class method\n",
        "   * 12   compile()\tReturns the specified source as an object, ready to be executed\n",
        "   * 13   complex()\tReturns a complex number\n",
        "   * 14   delattr()\tDeletes the specified attribute (property or method) from the specified object\n",
        "   * 15   dict()\tReturns a dictionary (Array)\n",
        "   * 16   dir()\tReturns a list of the specified object's properties and methods\n",
        "   * 17   divmod()\tReturns the quotient and the remainder when argument1 is divided by argument2\n",
        "   * 18   enumerate()\tTakes a collection (e.g. a tuple) and returns it as an enumerate object\n",
        "   * 19   eval()\tEvaluates and executes an expression\n",
        "   * 20   exec()\tExecutes the specified code (or object)\n",
        "   * 21   filter()\tUse a filter function to exclude items in an iterable object\n",
        "   * 22   float()\tReturns a floating point number\n",
        "   * 23   format()\tFormats a specified value\n",
        "   * 24   frozenset()\tReturns a frozenset object\n",
        "   * 25   getattr()\tReturns the value of the specified attribute (property or method)\n",
        "   * 26   globals()\tReturns the current global symbol table as a dictionary\n",
        "   * 27   hasattr()\tReturns True if the specified object has the specified attribute (property/method)\n",
        "   * 28   hash()\tReturns the hash value of a specified object\n",
        "   * 29   help()\tExecutes the built-in help system\n",
        "   * 30   hex()\tConverts a number into a hexadecimal value\n",
        "   * 31   id()\tReturns the id of an object\n",
        "   * 32   input()\tAllowing user input\n",
        "   * 33   int()\tReturns an integer number\n",
        "   * 34   isinstance()\tReturns True if a specified object is an instance of a specified object\n",
        "   * 35   issubclass()\tReturns True if a specified class is a subclass of a specified object\n",
        "   * 36   iter()\tReturns an iterator object\n",
        "   * 37   len()\tReturns the length of an object\n",
        "   * 38   list()\tReturns a list\n",
        "   * 39   locals()\tReturns an updated dictionary of the current local symbol table\n",
        "   * 40   map()\tReturns the specified iterator with the specified function applied to each item\n",
        "   * 41   max()\tReturns the largest item in an iterable\n",
        "   * 42   memoryview()\tReturns a mem`ory view object\n",
        "   * 43   min()\tReturns the smallest item in an iterable\n",
        "   * 44   next()\tReturns the next item in an iterable\n",
        "   * 45   object()\tReturns a new object\n",
        "   * 46   oct()\tConverts a number into an octal\n",
        "   * 47   open()\tOpens a file and returns a file object\n",
        "   * 48   ord()\tConvert an integer representing the Unicode of the specified character\n",
        "   * 49   pow()\tReturns the value of x to the power of y\n",
        "   * 50   print()\tPrints to the standard output device\n",
        "   * 51   property()\tGets, sets, deletes a property\n",
        "   * 52   range()\tReturns a sequence of numbers, starting from 0 and increments by 1 (by default)\n",
        "   * 53   repr()\tReturns a readable version of an object\n",
        "   * 54   reversed()\tReturns a reversed iterator\n",
        "   * 55   round()\tRounds a numbers\n",
        "   * 56   set()\tReturns a new set object\n",
        "   * 57   setattr()\tSets an attribute (property/method) of an object\n",
        "   * 58   slice()\tReturns a slice object \n",
        "   * 59   sorted()\tReturns a sorted l ist\n",
        "   * 60   @staticmethod()\tConverts a met hod into a static method\n",
        "   * 61   str()\tReturns a string objec t\n",
        "   * 62   sum()\tSums the items of an i terator\n",
        "   * 63   super()\tReturns an object that  represents the parent class\n",
        "   * 64   tuple()\tReturns a tuple        \n",
        "   * 65   type()\tReturns the type of an  object\n",
        "   * 66   vars()\tReturns the __dict__ p roperty of an object\n",
        "   * 67   zip()\tReturns an iterator, f rom two or more iterators"
      ]
    },
    {
      "cell_type": "markdown",
      "metadata": {
        "id": "mHenj0HloWTb"
      },
      "source": [
        "\n",
        "You can call a function by using the following types of formal arguments −\n",
        "\n",
        "* Required arguments\n",
        "* Keyword arguments\n",
        "* Default arguments\n",
        "* Variable-length arguments"
      ]
    },
    {
      "cell_type": "markdown",
      "metadata": {
        "id": "1r3M_CV4pBcP"
      },
      "source": [
        "**Arbitrary Arguments**, *args \n",
        "Sometimes, we do not know in advance the number of arguments that will be passed into a function. Python allows us to handle this kind of situation through function calls with an arbitrary number of arguments.\n",
        "\n",
        "In the function definition, we use an asterisk (*) before the parameter name to denote this kind of argument. Here is an example"
      ]
    },
    {
      "cell_type": "markdown",
      "metadata": {
        "id": "K6EBvnO7pVQK"
      },
      "source": [
        "**Arbitrary Keyword Arguments, **kwargs** \n",
        "If you do not know how many keyword arguments that will be passed into your function, add two asterisk: ** before the parameter name in the function definition.\n",
        "\n",
        "This way the function will receive a dictionary of arguments, and can access the items accordingly:\n",
        "\n"
      ]
    },
    {
      "cell_type": "markdown",
      "metadata": {
        "id": "BpebtfDoLily"
      },
      "source": [
        "**Module**:A file that contains a collection of related functions and other definitions.<BR>\n",
        "**Import statement:**\n",
        "A statement that reads a module file and creates a module object.\n",
        "module object:\n",
        "A value created by an import statement that provides access to the values defined in a module.<br>\n",
        "**Dot notation:**\n",
        "The syntax for calling a function in another module by specifying the module\n",
        "name followed by a dot (period) and the function name.\n",
        "<br>\n",
        "**Re-naming a Module**:You can create an alias when you import a module, by using the as keyword\n",
        "<br>\n",
        "\n",
        "**Modular programming** refers to the process of breaking a large, unwieldy programming task into separate, smaller, more manageable subtasks or modules. Individual modules can then be cobbled together like building blocks to create a larger application.\n",
        "<br>\n",
        "There are several advantages to modularizing code in a large application:\n",
        "\n",
        "* **Simplicity:** Rather than focusing on the entire problem at hand, a module typically focuses on one relatively small portion of the problem. If you’re working on a single module, you’ll have a smaller problem domain to wrap your head around. This makes development easier and less error-prone.\n",
        "\n",
        "* **Maintainability:** Modules are typically designed so that they enforce logical boundaries between different problem domains. If modules are written in a way that minimizes interdependency, there is decreased likelihood that modifications to a single module will have an impact on other parts of the program. (You may even be able to make changes to a module without having any knowledge of the application outside that module.) This makes it more viable for a team of many programmers to work collaboratively on a large application.\n",
        "\n",
        "* **Reusability:** Functionality defined in a single module can be easily reused (through an appropriately defined interface) by other parts of the application. This eliminates the need to duplicate code.\n",
        "\n",
        "* **Scoping:** Modules typically define a separate namespace, which helps avoid collisions between identifiers in different areas of a program. (One of the tenets in the Zen of Python is Namespaces are one honking great idea—let’s do more of those!)\n"
      ]
    },
    {
      "cell_type": "markdown",
      "metadata": {
        "id": "owgvrDqrOoIG"
      },
      "source": [
        "Package Initialization\n",
        "If a file named __init__.py is present in a package directory, it is invoked when the package or a module in the package is imported. This can be used for execution of package initialization code, such as initialization of package-level data.\n",
        "\n",
        "For example, consider the following __init__.py file:\n",
        "\n",
        "__init__.py"
      ]
    },
    {
      "cell_type": "code",
      "metadata": {
        "id": "gKcrbZv4l69M",
        "outputId": "bf7e3933-bb32-444c-b846-ef5517414b1b",
        "colab": {
          "base_uri": "https://localhost:8080/"
        }
      },
      "source": [
        "import math\n",
        "import sys\n",
        "content = dir(math)\n",
        "print(content)"
      ],
      "execution_count": null,
      "outputs": [
        {
          "output_type": "stream",
          "text": [
            "['__doc__', '__loader__', '__name__', '__package__', '__spec__', 'acos', 'acosh', 'asin', 'asinh', 'atan', 'atan2', 'atanh', 'ceil', 'copysign', 'cos', 'cosh', 'degrees', 'e', 'erf', 'erfc', 'exp', 'expm1', 'fabs', 'factorial', 'floor', 'fmod', 'frexp', 'fsum', 'gamma', 'gcd', 'hypot', 'inf', 'isclose', 'isfinite', 'isinf', 'isnan', 'ldexp', 'lgamma', 'log', 'log10', 'log1p', 'log2', 'modf', 'nan', 'pi', 'pow', 'radians', 'sin', 'sinh', 'sqrt', 'tan', 'tanh', 'tau', 'trunc']\n"
          ],
          "name": "stdout"
        }
      ]
    },
    {
      "cell_type": "code",
      "metadata": {
        "id": "IEe9-UZiotI5"
      },
      "source": [
        ""
      ],
      "execution_count": null,
      "outputs": []
    },
    {
      "cell_type": "code",
      "metadata": {
        "id": "XoBSjoQkkHGi"
      },
      "source": [
        ""
      ],
      "execution_count": null,
      "outputs": []
    },
    {
      "cell_type": "code",
      "metadata": {
        "id": "evnkq6h7ymN4"
      },
      "source": [
        ""
      ],
      "execution_count": null,
      "outputs": []
    }
  ]
}